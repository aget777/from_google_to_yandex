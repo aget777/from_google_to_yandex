{
 "cells": [
  {
   "cell_type": "code",
   "execution_count": null,
   "id": "d98e948b-194f-4353-8a75-f57b6d3fc699",
   "metadata": {},
   "outputs": [],
   "source": [
    "import pandas as pd\n",
    "import numpy as np\n",
    "import requests\n",
    "from io import BytesIO\n",
    "import os\n",
    "\n",
    "import config\n",
    "from parse_functions import *\n",
    "from yandex_disk_func import *\n",
    "from google_connector import *"
   ]
  },
  {
   "cell_type": "code",
   "execution_count": null,
   "id": "98785bf0-cf08-406f-8380-dcb11d75b0b8",
   "metadata": {},
   "outputs": [],
   "source": [
    "path = config.path\n",
    "dashboadr_folder = config.dashboadr_folder\n",
    "yandex_token = config.yandex_token\n",
    "# указываем путь к основной папке, в которой храняться папки с флайтами\n",
    "main_folder = config.main_folder # путь к папке в формате /tmp"
   ]
  },
  {
   "cell_type": "code",
   "execution_count": null,
   "id": "d8113094-f71c-4ac3-84c6-4a9d7ed78792",
   "metadata": {},
   "outputs": [],
   "source": [
    "# функция добавляет ИД документа к базовому УРЛ гугла\n",
    "# функция, чтобы забрать из ссылки гугл докс ИД\n",
    "# ИД находится между определенными паттернами\n",
    "# на выходе возвращаем строку с ИД\n",
    "def get_data_from_sheet(base_link):\n",
    "    # # стандартный УРЛ от гугла, в который нужно подставить ИД файла для скачивания\n",
    "    url = config.url #'https://docs.google.com/spreadsheets/export?exportFormat=xlsx&id='\n",
    "    start_index = str(base_link).find('/d/')\n",
    "    end_index = str(base_link).find('/edit?')\n",
    "    spreadsheetId = base_link[start_index+3:end_index]\n",
    "    \n",
    "    # spreadsheetId = get_sheet_id(base_link)\n",
    "    # добавляем к стандартной ссылке гугл этот ИД\n",
    "    final_url = url + spreadsheetId\n",
    "    res = requests.get(final_url)\n",
    "    \n",
    "    return BytesIO(res.content)"
   ]
  },
  {
   "cell_type": "code",
   "execution_count": null,
   "id": "e1f6d63b-f173-45d0-a4e8-9ed2da4921ae",
   "metadata": {},
   "outputs": [],
   "source": [
    "# создаем функцию для подготовки места на Яндекс диске для загрузки файлов\n",
    "# у нас есть 2 типа файлов - файлы excel и файлы pbi\n",
    "# файлы excel мы просто загружаем в папку Клиента\n",
    "# файлы pbi мы загружаем в папку Файлы дашбордов, которая находится внутри папки Клинета\n",
    "# для того, чтобы отличить, какой файл куда следует загрузить функция на входе принимаетс специальный флаг для дашбордов flag='dashboard'\n",
    "# для файлов excel никаких флашов не используем\n",
    "# на входе фенкция принимает\n",
    "# main_folder - путь к основной папке на Яндекс Диске, в которой хранятся папки клиентов - /tmp\n",
    "# base_link - ссылка на гугл файл (либо эксель документ, либо гугл папка)\n",
    "# name - название клиента\n",
    "# report - название файла\n",
    "def get_files_to_yandex_disk(base_link, name, report, flag):\n",
    "    \n",
    "    if flag=='dashboard':\n",
    "        name = name + '/'\n",
    "        # создаем путь к папке Дашборов внутри каждого клиента\n",
    "        dashboadr_folder_path = os.path.join(path, dashboadr_folder)\n",
    "        # прописываем путь к файлу дашборда, который сохранен на локальном компе\n",
    "        content = os.path.join(dashboadr_folder_path, report)\n",
    "        file_name = report\n",
    "        name = name + dashboadr_folder\n",
    "        # создаем конечный путь для каждого файла дашбордов\n",
    "        file_path = name  +  dashboadr_folder + '/' + report\n",
    "        # если на яндекс диске в папке дашбордов есть одноименный файл, то удаляем его\n",
    "        delete_yandex_disk_file(file_path)       \n",
    "        # открываем локально сохраненный файл дашборда и отправляем его на загрузку на яндекс диск\n",
    "        with open(content, 'rb') as f:\n",
    "            try:\n",
    "                upload_file_to_yandex_disk(name, file_name, f)\n",
    "            except:\n",
    "                print('Ошибка при загрузке файла')\n",
    "    if flag=='xlsx':\n",
    "        # если мы загружаеем excel Файл, то сначала забираем из гугл ссылки ИД файла для загрузки\n",
    "        spreadsheetId = get_sheet_id(base_link)\n",
    "        # передаем ИД файла в нашу функцию для получения файла целиком (т.к. это excel получаем все единиым куском со всеми листами внутри)\n",
    "        content = download_google_data(spreadsheetId)\n",
    "        file_name = report + '.xlsx'\n",
    "        file_path = name + file_name\n",
    "        # если на яндекс диске в папке Клиента есть одноименный excel файл, то удаляем его\n",
    "        delete_yandex_disk_file(file_path)\n",
    "        # загружаем файл на яндекс диск в папку соответствующего клиента\n",
    "        upload_file_to_yandex_disk(name, file_name, content)\n"
   ]
  },
  {
   "cell_type": "code",
   "execution_count": null,
   "id": "7a03b423-99cc-4fef-b1b6-2cbeebc27085",
   "metadata": {},
   "outputs": [],
   "source": []
  },
  {
   "cell_type": "code",
   "execution_count": null,
   "id": "716b54df-ad8e-4c71-a1da-0651799c9887",
   "metadata": {},
   "outputs": [],
   "source": [
    "def get_dashboards_folder(dashboadr_folder):\n",
    "    # проверяем - существует папка для временного сохранения файлов или нет\n",
    "    # если ее нет, то создаем\n",
    "    # если папка существует, то проверяем в ней наличие файлов\n",
    "    # если файлы в ней есть, то очищаем папку от содержимого\n",
    "    # в самом конце выполняем загрузку файлов из гугл диска\n",
    "    \n",
    "    # получаем адрес текущей папки\n",
    "    directory = config.path\n",
    "    current_directory = os.path.join(directory, dashboadr_folder)\n",
    "    if dashboadr_folder not in list(os.listdir(directory)):\n",
    "        os.makedirs(current_directory) # создаем папку для сохранения файлов дашбордов\n",
    "    else:\n",
    "        current_files_list = list(os.listdir(os.path.join(directory, dashboadr_folder)))\n",
    "        if len(current_files_list)!=0:\n",
    "            for file in current_files_list:\n",
    "                os.remove(os.path.join(current_directory, file))\n",
    "    return current_directory"
   ]
  }
 ],
 "metadata": {
  "kernelspec": {
   "display_name": "Python 3 (ipykernel)",
   "language": "python",
   "name": "python3"
  },
  "language_info": {
   "codemirror_mode": {
    "name": "ipython",
    "version": 3
   },
   "file_extension": ".py",
   "mimetype": "text/x-python",
   "name": "python",
   "nbconvert_exporter": "python",
   "pygments_lexer": "ipython3",
   "version": "3.11.7"
  }
 },
 "nbformat": 4,
 "nbformat_minor": 5
}
