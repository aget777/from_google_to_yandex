{
 "cells": [
  {
   "cell_type": "code",
   "execution_count": 1,
   "id": "a1522780-1e90-46b5-9315-6bd9da3a4079",
   "metadata": {},
   "outputs": [],
   "source": [
    "import os\n",
    "\n",
    "\n",
    "\n",
    "# google links\n",
    "\n",
    "# ссылка на основной файл гугл докс (на каждом лите отдельный клиент со ссылками на файлы с данными)\n",
    "base_link = 'https://docs.google.com/spreadsheets/d/1M6CdeQ8b_Uf5lXWqrxLRAX9-EP3SyIfi0rJfiAMbkEY/edit?usp=sharing'\n",
    "\n",
    "# yandex links\n",
    "token_path = r'C:\\Users\\o.bogomolov\\Desktop\\Jupyter_notebook\\34_03_download_files_from_google_to_yandex\\cred'\n",
    "token_name = 'yandex_token.txt'\n",
    "\n",
    "yandex_token = open(os.path.join(token_path, token_name), encoding='utf-8').read()\n",
    "\n",
    "# указываем путь к основной папке, в которой храняться папки с флайтами\n",
    "main_folder = '/tmp'\n",
    "public_key = 'https://disk.yandex.ru/d/Fm8-4DnCb5J18w' # обычная ссылка на доступ к папке одного данного ФЛАЙТА из личного кабинета"
   ]
  }
 ],
 "metadata": {
  "kernelspec": {
   "display_name": "Python 3 (ipykernel)",
   "language": "python",
   "name": "python3"
  },
  "language_info": {
   "codemirror_mode": {
    "name": "ipython",
    "version": 3
   },
   "file_extension": ".py",
   "mimetype": "text/x-python",
   "name": "python",
   "nbconvert_exporter": "python",
   "pygments_lexer": "ipython3",
   "version": "3.11.7"
  }
 },
 "nbformat": 4,
 "nbformat_minor": 5
}
