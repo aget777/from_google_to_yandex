{
 "cells": [
  {
   "cell_type": "code",
   "execution_count": 1,
   "id": "6cb191f5-1f3f-4672-8de4-2e12af797a25",
   "metadata": {},
   "outputs": [
    {
     "name": "stdout",
     "output_type": "stream",
     "text": [
      "200\n"
     ]
    }
   ],
   "source": [
    "import pandas as pd\n",
    "import numpy as np\n",
    "import requests\n",
    "from io import BytesIO\n",
    "import os\n",
    "import yadisk\n",
    "import gdown\n",
    "import json\n",
    "\n",
    "import config\n",
    "from parse_functions import *\n",
    "from yandex_disk_func import *\n",
    "from google_connector import *\n",
    "\n",
    "# ссылка на основной файл гугл докс (на каждом лите отдельный клиент со ссылками на файлы с данными)\n",
    "base_link = config.base_link\n",
    "yandex_token = config.yandex_token\n",
    "path = config.path\n",
    "dashboadr_folder = config.dashboadr_folder\n",
    "\n",
    "# указываем путь к основной папке, в которой храняться папки с флайтами\n",
    "main_folder = config.main_folder # путь к папке в формате /tmp\n",
    "public_key = config.public_key # обычная ссылка на доступ к папке  из личного кабинета\n",
    "\n",
    "# забираем список папок в нужной нам директории\n",
    "res = get_yandex_disk_folders(public_key)\n",
    "yandex_folders = res.json() # парсим ответ"
   ]
  },
  {
   "cell_type": "code",
   "execution_count": null,
   "id": "5a836d65-a81f-4572-91bb-1526c2b5b439",
   "metadata": {},
   "outputs": [],
   "source": []
  },
  {
   "cell_type": "code",
   "execution_count": 2,
   "id": "ff100d9d-08fb-46d0-bfb1-2414c72d4e0f",
   "metadata": {},
   "outputs": [],
   "source": [
    "# Включаем отображение всех колонок\n",
    "pd.set_option('display.max_columns', None)\n",
    "# Задаем ширину столбцов по контенту\n",
    "pd.set_option('display.max_colwidth', None)\n",
    "pd.set_option('display.max_rows', None)\n",
    "pd.options.mode.chained_assignment = None"
   ]
  },
  {
   "cell_type": "code",
   "execution_count": 3,
   "id": "df8f040d-b0a8-4cad-9522-b9944b4d9808",
   "metadata": {},
   "outputs": [],
   "source": [
    "# забираем данные из основной управленческой таблицы\n",
    "content = get_data_from_sheet(base_link)\n",
    "sheet_names = pd.ExcelFile(content)"
   ]
  },
  {
   "cell_type": "code",
   "execution_count": 4,
   "id": "eea084a8-2e58-4512-bf7d-3c128df32df8",
   "metadata": {},
   "outputs": [
    {
     "data": {
      "text/plain": [
       "['Калининград МореАвто(ЮтоКарс)',\n",
       " 'Екатеринбург АтлантикПРО',\n",
       " 'АвтоБелогорье',\n",
       " 'DoubleTint']"
      ]
     },
     "execution_count": 4,
     "metadata": {},
     "output_type": "execute_result"
    }
   ],
   "source": [
    "sheet_names.sheet_names"
   ]
  },
  {
   "cell_type": "code",
   "execution_count": 6,
   "id": "b6c61404-2cdc-48a5-881e-d4d8ad4d4a32",
   "metadata": {},
   "outputs": [
    {
     "name": "stdout",
     "output_type": "stream",
     "text": [
      "Калининград МореАвто(ЮтоКарс)\n",
      "Екатеринбург АтлантикПРО\n",
      "АвтоБелогорье\n",
      "DoubleTint\n"
     ]
    }
   ],
   "source": [
    "# если появился новый клиент\n",
    "# мы проверяем, что этого названия НЕТ среди папок на Яндекс Диске\n",
    "# созлаем папку Клиента\n",
    "# внутри нее создаем папку для файлов дашбордов\n",
    "\n",
    "folders_list = get_folder_name(yandex_folders['_embedded']['items'])\n",
    "for name in sheet_names.sheet_names:\n",
    "    if name not in folders_list:\n",
    "        print(name)\n",
    "        dashboard_folder = '/' + name + '/' + dashboadr_folder\n",
    "        create_yandex_disk_folder(name)\n",
    "        create_yandex_disk_folder(dashboard_folder)"
   ]
  },
  {
   "cell_type": "code",
   "execution_count": null,
   "id": "9ddf0d3f-aeb3-4e77-8da5-91db1e925d21",
   "metadata": {},
   "outputs": [],
   "source": []
  },
  {
   "cell_type": "code",
   "execution_count": null,
   "id": "0f3261cc-050e-4b80-97d9-06b63e0c4e2b",
   "metadata": {},
   "outputs": [],
   "source": []
  },
  {
   "cell_type": "code",
   "execution_count": null,
   "id": "9a8beaa5-367f-4b18-8bce-0e7a4acb8f78",
   "metadata": {},
   "outputs": [],
   "source": []
  },
  {
   "cell_type": "code",
   "execution_count": 7,
   "id": "46ebe76d-1057-4f74-959a-f46226c0c156",
   "metadata": {},
   "outputs": [
    {
     "name": "stdout",
     "output_type": "stream",
     "text": [
      "200\n",
      "Калининград МореАвто(ЮтоКарс)\n",
      "Файл успешно загружен: калининград ап.xlsx\n",
      "Файл успешно загружен: калининград оп.xlsx\n",
      "Файл успешно загружен: калининград выкуп.xlsx\n",
      "Файл успешно загружен: калининград парсинг.xlsx\n",
      "Файл успешно загружен: срм ап.xlsx\n",
      "Файл успешно загружен: срм оп.xlsx\n",
      "Файл успешно загружен: цели.xlsx\n",
      "https://drive.google.com/drive/folders/1A6RHtXKIMneWUkD-Fs2oLrfbVwDk07Er?usp=drive_link\n",
      "Файл успешно загружен: Дашборд Калининград_АП.pbix\n",
      "Файл успешно загружен: Дашборд Калининград_Выкуп.pbix\n",
      "Файл успешно загружен: Дашборд Калининград_ОП.pbix\n",
      "Файл успешно загружен: Дашборд Калининград_Парсинг.pbix\n",
      "Файл успешно загружен: Посещение дашборда ЮтоКарс.pbix\n",
      "Файл успешно загружен: сотрудники.xlsx\n",
      "Екатеринбург АтлантикПРО\n",
      "Файл успешно загружен: чеклист.xlsx\n",
      "Файл успешно загружен: срм чаты_звонки.xlsx\n",
      "Файл успешно загружен: цели.xlsx\n",
      "Файл успешно загружен: сотрудники.xlsx\n",
      "Файл успешно загружен: срм ап.xlsx\n",
      "https://drive.google.com/drive/folders/15uJn1vIl7kIEk41DQ5d9uCBEwcRkPbra?usp=drive_link\n",
      "Файл успешно загружен: АтлантикPRO качество.pbix\n",
      "Файл успешно загружен: Дашборд Екатеринбург_АП.pbix\n",
      "Файл успешно загружен: Дашборд Екатеринбург_Чаты.pbix\n",
      "Файл успешно загружен: Дашборд Екатеринбург_Чаты_Звонки.pbix\n",
      "Файл успешно загружен: Дашборд_Екатеринбург_Комиссия.pbix\n",
      "Файл успешно загружен: Посещение дашборда АтлантикПРО.pbix\n",
      "АвтоБелогорье\n",
      "Файл успешно загружен: чеклист автобелогорье.xlsx\n",
      "Файл успешно загружен: цели.xlsx\n",
      "Файл успешно загружен: сотрудники.xlsx\n",
      "Файл успешно загружен: срм лада.xlsx\n",
      "Файл успешно загружен: срм джетур.xlsx\n",
      "Файл успешно загружен: срм омода.xlsx\n",
      "Файл успешно загружен: срм фав.xlsx\n",
      "Файл успешно загружен: срм эксид.xlsx\n",
      "https://drive.google.com/drive/folders/1VDzCSrigeNukfkn_oMSu65YPBRAIpl17?usp=drive_link\n",
      "Файл успешно загружен: Дашборд Автобелогорье_АП.pbix\n",
      "Файл успешно загружен: Дашборд Белгород_ОП_Exeed.pbix\n",
      "Файл успешно загружен: Дашборд Белгород_ОП_FAW_JAC.pbix\n",
      "Файл успешно загружен: Дашборд Белгород_ОП_Лада.pbix\n",
      "Файл успешно загружен: Дашборд_Старый_Оскол_Jetour.pbix\n",
      "Файл успешно загружен: Дашборд_Старый_Оскол_OMODA_JAECOO.pbix\n",
      "Файл успешно загружен: Посещение дашборда АвтоБелогорье.pbix\n",
      "DoubleTint\n",
      "Файл успешно загружен: чеклист doubletint.xlsx\n",
      "https://drive.google.com/drive/folders/1xdXldLg52Iem1kdLl_fUpcKngMnXE_Qf?usp=sharing\n",
      "Файл успешно загружен: Дашборд _DoubleTint.pbix\n"
     ]
    }
   ],
   "source": [
    "# обновляем список папок на Яндекс диске\n",
    "res = get_yandex_disk_folders(public_key)\n",
    "yandex_folders = res.json() # парсим ответ\n",
    "\n",
    "# проходим через цикл по всем листам в управленческой таблице\n",
    "# вызываем функцию и забираем названия папок на яндекс диске\n",
    "folders_list = get_folder_name(yandex_folders['_embedded']['items'])\n",
    "\n",
    "for name in sheet_names.sheet_names:\n",
    "    print(name)\n",
    "    \n",
    "    cols_range = 'A:B' # задаем диапазон полей, которые нам нужны\n",
    "    df = pd.read_excel(content, sheet_name=name, usecols=cols_range, names=['report_name', 'report_link'])\n",
    "    # нормализуем назания отчетов - приводим в нижний регистр, обрезаем по краям, избаляемся от технических символов(перенос строки и тд)\n",
    "    df['report_name'] = df['report_name'].str.lower().str.strip().str.replace('\\n', ' ')\n",
    "    # создаем отдельный список с названиями отчетов и проодим по нему через цикл\n",
    "    reports_list = list(df['report_name'])\n",
    "    # запускаем блок парсинга отчетов\n",
    "    \n",
    "\n",
    "    for report in reports_list:\n",
    "        # print(report)\n",
    "        if report == 'файлы дашбордов':\n",
    "            parse_info = df[df['report_name']==report].reset_index(drop=True)\n",
    "            base_link = parse_info['report_link'][0]\n",
    "            # print(base_link)\n",
    "            # создаем папку для сохранения дашбордов, если ее нет\n",
    "            # если она есть, то очищаем ее от файлов\n",
    "            current_directory = get_dashboards_folder(dashboadr_folder)\n",
    "          \n",
    "            gdown.download_folder(base_link, output=current_directory, quiet=True, use_cookies=False)\n",
    "            # получаем список файлов дашбордов\n",
    "            current_files_list = list(os.listdir(current_directory))\n",
    "            if len(current_files_list) > 0:\n",
    "                for report in current_files_list:\n",
    "                    get_files_to_yandex_disk(base_link, name, report, flag='dashboard')\n",
    "                    \n",
    "            get_dashboards_folder(dashboadr_folder)\n",
    "        else:\n",
    "            parse_info = df[df['report_name']==report].reset_index(drop=True)\n",
    "            base_link = parse_info['report_link'][0]\n",
    "            \n",
    "            get_files_to_yandex_disk(base_link, name, report, flag='xlsx')\n"
   ]
  },
  {
   "cell_type": "code",
   "execution_count": null,
   "id": "e771bc01-1934-4dfb-9478-fab1ece67bf8",
   "metadata": {},
   "outputs": [],
   "source": []
  },
  {
   "cell_type": "code",
   "execution_count": null,
   "id": "2f679451-6ae7-4305-90b0-7c3353b3860d",
   "metadata": {},
   "outputs": [],
   "source": []
  },
  {
   "cell_type": "code",
   "execution_count": null,
   "id": "3f6d00d1-e73b-42b6-92a6-5ca13b7a65e3",
   "metadata": {},
   "outputs": [],
   "source": []
  },
  {
   "cell_type": "code",
   "execution_count": null,
   "id": "3c492d0e-a69b-45d9-bfda-4841ae6cb19e",
   "metadata": {},
   "outputs": [],
   "source": []
  },
  {
   "cell_type": "code",
   "execution_count": null,
   "id": "fd532078-0ad1-4002-ac09-b784eb39c963",
   "metadata": {},
   "outputs": [],
   "source": []
  },
  {
   "cell_type": "code",
   "execution_count": null,
   "id": "a9d68077-f5b0-40f7-9712-9d9fd6f85140",
   "metadata": {},
   "outputs": [],
   "source": []
  },
  {
   "cell_type": "code",
   "execution_count": null,
   "id": "4f6cfff0-22c9-4b04-b43a-5b3af22a3884",
   "metadata": {},
   "outputs": [],
   "source": []
  },
  {
   "cell_type": "code",
   "execution_count": null,
   "id": "319f76ea-7cc2-4367-a3e0-960a9b5a176d",
   "metadata": {},
   "outputs": [],
   "source": []
  },
  {
   "cell_type": "code",
   "execution_count": null,
   "id": "0ce936db-94b6-4e89-9da4-18e836940a37",
   "metadata": {},
   "outputs": [],
   "source": []
  },
  {
   "cell_type": "code",
   "execution_count": null,
   "id": "1887fef8-c677-43fa-83c0-265ba4dd75d2",
   "metadata": {},
   "outputs": [],
   "source": []
  },
  {
   "cell_type": "code",
   "execution_count": null,
   "id": "3b646fc3-4c5e-479e-bae9-ee8d5dc27491",
   "metadata": {},
   "outputs": [],
   "source": []
  },
  {
   "cell_type": "code",
   "execution_count": null,
   "id": "2194b159-fc28-46e0-af1e-a58a1dcb6d55",
   "metadata": {},
   "outputs": [],
   "source": []
  },
  {
   "cell_type": "code",
   "execution_count": null,
   "id": "6e62663d-d5e7-4740-84fc-250837c3954b",
   "metadata": {},
   "outputs": [],
   "source": []
  },
  {
   "cell_type": "code",
   "execution_count": null,
   "id": "865fd365-d178-47f9-8030-f69605c3bbd9",
   "metadata": {},
   "outputs": [],
   "source": []
  },
  {
   "cell_type": "code",
   "execution_count": null,
   "id": "8c0fb543-38b5-40e2-a580-f0afd004953c",
   "metadata": {},
   "outputs": [],
   "source": []
  },
  {
   "cell_type": "code",
   "execution_count": null,
   "id": "f470eb77-df53-4058-a950-54fd1d2683fe",
   "metadata": {},
   "outputs": [],
   "source": []
  },
  {
   "cell_type": "code",
   "execution_count": null,
   "id": "34184c6d-25d7-423b-9daf-54037d431414",
   "metadata": {},
   "outputs": [],
   "source": []
  },
  {
   "cell_type": "code",
   "execution_count": null,
   "id": "b8ef2b99-29ea-4cfb-97c0-e3f6df24be27",
   "metadata": {},
   "outputs": [],
   "source": []
  },
  {
   "cell_type": "code",
   "execution_count": null,
   "id": "14b41668-9b40-46d1-a312-e00dc27123ec",
   "metadata": {},
   "outputs": [],
   "source": []
  },
  {
   "cell_type": "code",
   "execution_count": null,
   "id": "5a17c9af-5b59-400c-8059-76e3813e6705",
   "metadata": {},
   "outputs": [],
   "source": []
  }
 ],
 "metadata": {
  "kernelspec": {
   "display_name": "Python 3 (ipykernel)",
   "language": "python",
   "name": "python3"
  },
  "language_info": {
   "codemirror_mode": {
    "name": "ipython",
    "version": 3
   },
   "file_extension": ".py",
   "mimetype": "text/x-python",
   "name": "python",
   "nbconvert_exporter": "python",
   "pygments_lexer": "ipython3",
   "version": "3.11.7"
  }
 },
 "nbformat": 4,
 "nbformat_minor": 5
}
