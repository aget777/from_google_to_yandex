{
 "cells": [
  {
   "cell_type": "code",
   "execution_count": 1,
   "id": "6cb191f5-1f3f-4672-8de4-2e12af797a25",
   "metadata": {},
   "outputs": [
    {
     "name": "stdout",
     "output_type": "stream",
     "text": [
      "200\n"
     ]
    }
   ],
   "source": [
    "import pandas as pd\n",
    "import numpy as np\n",
    "import requests\n",
    "from io import BytesIO\n",
    "import os\n",
    "import yadisk\n",
    "import gdown\n",
    "import json\n",
    "\n",
    "import config\n",
    "from parse_functions import *\n",
    "from yandex_disk_func import *\n",
    "from google_connector import *\n",
    "\n",
    "# ссылка на основной файл гугл докс (на каждом лите отдельный клиент со ссылками на файлы с данными)\n",
    "base_link = config.base_link\n",
    "yandex_token = config.yandex_token\n",
    "\n",
    "# указываем путь к основной папке, в которой храняться папки с флайтами\n",
    "main_folder = config.main_folder # путь к папке в формате /tmp\n",
    "public_key = config.public_key # обычная ссылка на доступ к папке  из личного кабинета\n",
    "\n",
    "# забираем список папок в нужной нам директории\n",
    "res = get_yandex_disk_folders(public_key)\n",
    "yandex_folders = res.json() # парсим ответ"
   ]
  },
  {
   "cell_type": "code",
   "execution_count": null,
   "id": "5a836d65-a81f-4572-91bb-1526c2b5b439",
   "metadata": {},
   "outputs": [],
   "source": []
  },
  {
   "cell_type": "code",
   "execution_count": 2,
   "id": "ff100d9d-08fb-46d0-bfb1-2414c72d4e0f",
   "metadata": {},
   "outputs": [],
   "source": [
    "# Включаем отображение всех колонок\n",
    "pd.set_option('display.max_columns', None)\n",
    "# Задаем ширину столбцов по контенту\n",
    "pd.set_option('display.max_colwidth', None)\n",
    "pd.set_option('display.max_rows', None)\n",
    "pd.options.mode.chained_assignment = None"
   ]
  },
  {
   "cell_type": "code",
   "execution_count": 3,
   "id": "df8f040d-b0a8-4cad-9522-b9944b4d9808",
   "metadata": {},
   "outputs": [],
   "source": [
    "# забираем данные из основной управленческой таблицы\n",
    "content = get_data_from_sheet(base_link)\n",
    "sheet_names = pd.ExcelFile(content)"
   ]
  },
  {
   "cell_type": "code",
   "execution_count": 4,
   "id": "eea084a8-2e58-4512-bf7d-3c128df32df8",
   "metadata": {},
   "outputs": [
    {
     "data": {
      "text/plain": [
       "['Калининград МореАвто(ЮтоКарс)',\n",
       " 'Екатеринбург АтлантикПРО',\n",
       " 'АвтоБелогорье',\n",
       " 'DoubleTint']"
      ]
     },
     "execution_count": 4,
     "metadata": {},
     "output_type": "execute_result"
    }
   ],
   "source": [
    "sheet_names.sheet_names"
   ]
  },
  {
   "cell_type": "code",
   "execution_count": 5,
   "id": "b6c61404-2cdc-48a5-881e-d4d8ad4d4a32",
   "metadata": {},
   "outputs": [
    {
     "name": "stdout",
     "output_type": "stream",
     "text": [
      "Калининград МореАвто(ЮтоКарс)\n",
      "Екатеринбург АтлантикПРО\n",
      "АвтоБелогорье\n",
      "DoubleTint\n"
     ]
    }
   ],
   "source": [
    "# если появился новый клиент\n",
    "# мы проверяем, что этого названия НЕТ среди папок на Яндекс Диске\n",
    "# созлаем папку Клиента\n",
    "# внутри нее создаем папку для файлов дашбордов\n",
    "folders_list = get_folder_name(yandex_folders['_embedded']['items'])\n",
    "for name in sheet_names.sheet_names:\n",
    "    if name not in folders_list:\n",
    "        print(name)\n",
    "        dashboard_folder = '/' + name + '/Файлы_дашбордов'\n",
    "        create_yandex_disk_folder(main_folder, name, yandex_token)\n",
    "        create_yandex_disk_folder(main_folder, dashboard_folder, yandex_token)"
   ]
  },
  {
   "cell_type": "code",
   "execution_count": null,
   "id": "9ddf0d3f-aeb3-4e77-8da5-91db1e925d21",
   "metadata": {},
   "outputs": [],
   "source": []
  },
  {
   "cell_type": "code",
   "execution_count": null,
   "id": "0f3261cc-050e-4b80-97d9-06b63e0c4e2b",
   "metadata": {},
   "outputs": [],
   "source": []
  },
  {
   "cell_type": "code",
   "execution_count": null,
   "id": "9a8beaa5-367f-4b18-8bce-0e7a4acb8f78",
   "metadata": {},
   "outputs": [],
   "source": []
  },
  {
   "cell_type": "code",
   "execution_count": 6,
   "id": "46ebe76d-1057-4f74-959a-f46226c0c156",
   "metadata": {},
   "outputs": [
    {
     "name": "stdout",
     "output_type": "stream",
     "text": [
      "200\n",
      "Калининград МореАвто(ЮтоКарс)\n",
      "калининград ап\n",
      "Файл успешно загружен\n",
      "Екатеринбург АтлантикПРО\n",
      "АвтоБелогорье\n",
      "DoubleTint\n"
     ]
    }
   ],
   "source": [
    "# обновляем список папок на Яндекс диске\n",
    "res = get_yandex_disk_folders(public_key)\n",
    "yandex_folders = res.json() # парсим ответ\n",
    "\n",
    "# проходим через цикл по всем листам в управленческой таблице\n",
    "# вызываем функцию и забираем названия папок на яндекс диске\n",
    "folders_list = get_folder_name(yandex_folders['_embedded']['items'])\n",
    "\n",
    "for name in sheet_names.sheet_names:\n",
    "    print(name)\n",
    "    \n",
    "    cols_range = 'A:B' # задаем диапазон полей, которые нам нужны\n",
    "    df = pd.read_excel(content, sheet_name=name, usecols=cols_range, names=['report_name', 'report_link'])\n",
    "    # нормализуем назания отчетов - приводим в нижний регистр, обрезаем по краям, избаляемся от технических символов(перенос строки и тд)\n",
    "    df['report_name'] = df['report_name'].str.lower().str.strip().str.replace('\\n', ' ')\n",
    "    # создаем отдельный список с названиями отчетов и проодим по нему через цикл\n",
    "    reports_list = list(df['report_name'])\n",
    "    # запускаем блок парсинга отчетов\n",
    "    \n",
    "    \n",
    "    for report in reports_list:\n",
    "        if report == 'калининград ап':\n",
    "            print(report)\n",
    "            parse_info = df[df['report_name']==report].reset_index(drop=True)\n",
    "            base_link = parse_info['report_link'][0]\n",
    "            \n",
    "            get_data_to_yandex_disk(main_folder, base_link, name, report, yandex_token)"
   ]
  },
  {
   "cell_type": "code",
   "execution_count": null,
   "id": "0ce936db-94b6-4e89-9da4-18e836940a37",
   "metadata": {},
   "outputs": [],
   "source": []
  },
  {
   "cell_type": "code",
   "execution_count": null,
   "id": "1887fef8-c677-43fa-83c0-265ba4dd75d2",
   "metadata": {},
   "outputs": [],
   "source": []
  },
  {
   "cell_type": "code",
   "execution_count": null,
   "id": "f470eb77-df53-4058-a950-54fd1d2683fe",
   "metadata": {},
   "outputs": [],
   "source": []
  },
  {
   "cell_type": "code",
   "execution_count": null,
   "id": "9f5f14bf-c453-4c79-bb0d-913ea4e83e07",
   "metadata": {},
   "outputs": [],
   "source": []
  },
  {
   "cell_type": "code",
   "execution_count": null,
   "id": "dced31ce-18bf-43c7-8db8-fc9eab3c4cf2",
   "metadata": {},
   "outputs": [],
   "source": [
    "import io\n",
    "import os"
   ]
  },
  {
   "cell_type": "code",
   "execution_count": null,
   "id": "ded49664-7a48-44f9-adf0-420afa601738",
   "metadata": {},
   "outputs": [],
   "source": [
    "path = r'C:\\Users\\o.bogomolov\\Desktop\\Jupyter_notebook\\34_03_download_files_from_google_to_yandex\\test'\n",
    "file_name = 'test.xlsx'\n",
    "\n",
    "final_path = os.path.join(path, file_name)"
   ]
  },
  {
   "cell_type": "code",
   "execution_count": null,
   "id": "5f9bdf04-72e5-45c3-8505-9e32284418fe",
   "metadata": {},
   "outputs": [],
   "source": [
    "import requests\n",
    "response = requests.get('https://docs.google.com/spreadsheets/d/16z9hgAKPyWmZ0xGyHsUlq4knK-idq50WJRgOT2R5fts/export?format=xlsx')"
   ]
  },
  {
   "cell_type": "code",
   "execution_count": null,
   "id": "7446c771-9178-4663-926a-e86827f0c5c1",
   "metadata": {},
   "outputs": [],
   "source": [
    "with open(final_path, 'wb') as file:\n",
    "        file.write(response.content)"
   ]
  },
  {
   "cell_type": "code",
   "execution_count": null,
   "id": "700df484-0784-49c1-9dbe-1f9facd97109",
   "metadata": {},
   "outputs": [],
   "source": []
  },
  {
   "cell_type": "code",
   "execution_count": null,
   "id": "c838a7ca-f4c4-47ea-b8ac-af43eab0f350",
   "metadata": {},
   "outputs": [],
   "source": [
    "import gdown"
   ]
  },
  {
   "cell_type": "code",
   "execution_count": null,
   "id": "e04c3965-1116-408e-aef6-771cd6c6c541",
   "metadata": {},
   "outputs": [],
   "source": [
    "path = r'C:\\Users\\o.bogomolov\\Desktop\\Jupyter_notebook\\34_03_download_files_from_google_to_yandex\\test'"
   ]
  },
  {
   "cell_type": "code",
   "execution_count": null,
   "id": "f08bb538-814e-420f-83bc-0ecc825227f3",
   "metadata": {},
   "outputs": [],
   "source": [
    "folder_path = 'https://drive.google.com/drive/folders/1A6RHtXKIMneWUkD-Fs2oLrfbVwDk07Er?usp=sharing'"
   ]
  },
  {
   "cell_type": "code",
   "execution_count": null,
   "id": "3cc2ace4-c0ce-405b-b98c-d1a22ede3f6f",
   "metadata": {},
   "outputs": [],
   "source": [
    "gdown.download_folder(folder_path, output=path, quiet=True, use_cookies=False)"
   ]
  },
  {
   "cell_type": "code",
   "execution_count": null,
   "id": "1f5ffa3b-c044-4110-9640-680b5ffeff0a",
   "metadata": {},
   "outputs": [],
   "source": []
  }
 ],
 "metadata": {
  "kernelspec": {
   "display_name": "Python 3 (ipykernel)",
   "language": "python",
   "name": "python3"
  },
  "language_info": {
   "codemirror_mode": {
    "name": "ipython",
    "version": 3
   },
   "file_extension": ".py",
   "mimetype": "text/x-python",
   "name": "python",
   "nbconvert_exporter": "python",
   "pygments_lexer": "ipython3",
   "version": "3.11.7"
  }
 },
 "nbformat": 4,
 "nbformat_minor": 5
}
