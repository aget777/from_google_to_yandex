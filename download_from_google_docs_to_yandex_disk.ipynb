{
 "cells": [
  {
   "cell_type": "code",
   "execution_count": 1,
   "id": "6cb191f5-1f3f-4672-8de4-2e12af797a25",
   "metadata": {},
   "outputs": [
    {
     "name": "stdout",
     "output_type": "stream",
     "text": [
      "200\n"
     ]
    }
   ],
   "source": [
    "import pandas as pd\n",
    "import numpy as np\n",
    "import requests\n",
    "from io import BytesIO\n",
    "import os\n",
    "import yadisk\n",
    "import gdown\n",
    "import json\n",
    "\n",
    "import config\n",
    "from parse_functions import *\n",
    "from yandex_disk_func import *\n",
    "from google_connector import *\n",
    "\n",
    "# ссылка на основной файл гугл докс (на каждом лите отдельный клиент со ссылками на файлы с данными)\n",
    "base_link = config.base_link\n",
    "yandex_token = config.yandex_token\n",
    "path = config.path\n",
    "dashboadr_folder = config.dashboadr_folder\n",
    "\n",
    "# указываем путь к основной папке, в которой храняться папки с флайтами\n",
    "main_folder = config.main_folder # путь к папке в формате /tmp\n",
    "public_key = config.public_key # обычная ссылка на доступ к папке  из личного кабинета\n",
    "\n",
    "# забираем список папок в нужной нам директории\n",
    "res = get_yandex_disk_folders(public_key)\n",
    "yandex_folders = res.json() # парсим ответ"
   ]
  },
  {
   "cell_type": "code",
   "execution_count": null,
   "id": "5a836d65-a81f-4572-91bb-1526c2b5b439",
   "metadata": {},
   "outputs": [],
   "source": []
  },
  {
   "cell_type": "code",
   "execution_count": 2,
   "id": "ff100d9d-08fb-46d0-bfb1-2414c72d4e0f",
   "metadata": {},
   "outputs": [],
   "source": [
    "# Включаем отображение всех колонок\n",
    "pd.set_option('display.max_columns', None)\n",
    "# Задаем ширину столбцов по контенту\n",
    "pd.set_option('display.max_colwidth', None)\n",
    "pd.set_option('display.max_rows', None)\n",
    "pd.options.mode.chained_assignment = None"
   ]
  },
  {
   "cell_type": "code",
   "execution_count": 3,
   "id": "df8f040d-b0a8-4cad-9522-b9944b4d9808",
   "metadata": {},
   "outputs": [],
   "source": [
    "# забираем данные из основной управленческой таблицы\n",
    "content = get_data_from_sheet(base_link)\n",
    "sheet_names = pd.ExcelFile(content)"
   ]
  },
  {
   "cell_type": "code",
   "execution_count": 4,
   "id": "eea084a8-2e58-4512-bf7d-3c128df32df8",
   "metadata": {},
   "outputs": [
    {
     "data": {
      "text/plain": [
       "['Калининград МореАвто(ЮтоКарс)',\n",
       " 'Екатеринбург АтлантикПРО',\n",
       " 'АвтоБелогорье',\n",
       " 'DoubleTint']"
      ]
     },
     "execution_count": 4,
     "metadata": {},
     "output_type": "execute_result"
    }
   ],
   "source": [
    "sheet_names.sheet_names"
   ]
  },
  {
   "cell_type": "code",
   "execution_count": 5,
   "id": "b6c61404-2cdc-48a5-881e-d4d8ad4d4a32",
   "metadata": {},
   "outputs": [
    {
     "name": "stdout",
     "output_type": "stream",
     "text": [
      "Калининград МореАвто(ЮтоКарс)\n",
      "Екатеринбург АтлантикПРО\n",
      "АвтоБелогорье\n",
      "DoubleTint\n"
     ]
    }
   ],
   "source": [
    "# если появился новый клиент\n",
    "# мы проверяем, что этого названия НЕТ среди папок на Яндекс Диске\n",
    "# созлаем папку Клиента\n",
    "# внутри нее создаем папку для файлов дашбордов\n",
    "\n",
    "folders_list = get_folder_name(yandex_folders['_embedded']['items'])\n",
    "for name in sheet_names.sheet_names:\n",
    "    if name not in folders_list:\n",
    "        print(name)\n",
    "        dashboard_folder = '/' + name + '/' + dashboadr_folder\n",
    "        create_yandex_disk_folder(main_folder, name, yandex_token)\n",
    "        create_yandex_disk_folder(main_folder, dashboard_folder, yandex_token)"
   ]
  },
  {
   "cell_type": "code",
   "execution_count": null,
   "id": "9ddf0d3f-aeb3-4e77-8da5-91db1e925d21",
   "metadata": {},
   "outputs": [],
   "source": []
  },
  {
   "cell_type": "code",
   "execution_count": null,
   "id": "0f3261cc-050e-4b80-97d9-06b63e0c4e2b",
   "metadata": {},
   "outputs": [],
   "source": []
  },
  {
   "cell_type": "code",
   "execution_count": null,
   "id": "9a8beaa5-367f-4b18-8bce-0e7a4acb8f78",
   "metadata": {},
   "outputs": [],
   "source": []
  },
  {
   "cell_type": "code",
   "execution_count": 8,
   "id": "46ebe76d-1057-4f74-959a-f46226c0c156",
   "metadata": {},
   "outputs": [
    {
     "name": "stdout",
     "output_type": "stream",
     "text": [
      "200\n",
      "Калининград МореАвто(ЮтоКарс)\n",
      "https://drive.google.com/drive/folders/1A6RHtXKIMneWUkD-Fs2oLrfbVwDk07Er?usp=drive_link\n",
      "Файл успешно загружен: Дашборд Калининград_АП.pbix\n",
      "Файл успешно загружен: Дашборд Калининград_Выкуп.pbix\n",
      "Файл успешно загружен: Дашборд Калининград_ОП.pbix\n",
      "Файл успешно загружен: Дашборд Калининград_Парсинг.pbix\n",
      "Файл успешно загружен: Посещение дашборда ЮтоКарс.pbix\n",
      "Екатеринбург АтлантикПРО\n",
      "АвтоБелогорье\n",
      "DoubleTint\n"
     ]
    }
   ],
   "source": [
    "# обновляем список папок на Яндекс диске\n",
    "res = get_yandex_disk_folders(public_key)\n",
    "yandex_folders = res.json() # парсим ответ\n",
    "\n",
    "# проходим через цикл по всем листам в управленческой таблице\n",
    "# вызываем функцию и забираем названия папок на яндекс диске\n",
    "folders_list = get_folder_name(yandex_folders['_embedded']['items'])\n",
    "\n",
    "for name in sheet_names.sheet_names:\n",
    "    print(name)\n",
    "    \n",
    "    cols_range = 'A:B' # задаем диапазон полей, которые нам нужны\n",
    "    df = pd.read_excel(content, sheet_name=name, usecols=cols_range, names=['report_name', 'report_link'])\n",
    "    # нормализуем назания отчетов - приводим в нижний регистр, обрезаем по краям, избаляемся от технических символов(перенос строки и тд)\n",
    "    df['report_name'] = df['report_name'].str.lower().str.strip().str.replace('\\n', ' ')\n",
    "    # создаем отдельный список с названиями отчетов и проодим по нему через цикл\n",
    "    reports_list = list(df['report_name'])\n",
    "    # запускаем блок парсинга отчетов\n",
    "    \n",
    "\n",
    "    for report in reports_list:\n",
    "        # print(report)\n",
    "        if name=='Калининград МореАвто(ЮтоКарс)' and report == 'файлы дашбордов':\n",
    "            parse_info = df[df['report_name']==report].reset_index(drop=True)\n",
    "            base_link = parse_info['report_link'][0]\n",
    "            print(base_link)\n",
    "            # создаем папку для сохранения дашбордов, если ее нет\n",
    "            # если она есть, то очищаем ее от файлов\n",
    "            # current_directory = get_dashboards_folder(dashboadr_folder)\n",
    "          \n",
    "            # gdown.download_folder(base_link, output=current_directory, quiet=True, use_cookies=False)\n",
    "            # получаем список файлов дашбордов\n",
    "            current_files_list = list(os.listdir(current_directory))\n",
    "            if len(current_files_list) > 0:\n",
    "                for report in current_files_list:\n",
    "                    get_files_to_yandex_disk(main_folder, base_link, name, report, yandex_token, flag='dashboard')\n",
    "        # else:\n",
    "        #     parse_info = df[df['report_name']==report].reset_index(drop=True)\n",
    "        #     base_link = parse_info['report_link'][0]\n",
    "            \n",
    "        #     get_data_to_yandex_disk(main_folder, base_link, name, report, yandex_token, flag='xlsx')"
   ]
  },
  {
   "cell_type": "code",
   "execution_count": null,
   "id": "79e7fc33-56f3-4f59-b7c3-fc1ca334c5b9",
   "metadata": {},
   "outputs": [],
   "source": []
  },
  {
   "cell_type": "code",
   "execution_count": null,
   "id": "3f6d00d1-e73b-42b6-92a6-5ca13b7a65e3",
   "metadata": {},
   "outputs": [],
   "source": [
    "def get_dashboards_folder(dashboadr_folder):\n",
    "    # проверяем - существует папка для временного сохранения файлов или нет\n",
    "    # если ее нет, то создаем\n",
    "    # если папка существует, то проверяем в ней наличие файлов\n",
    "    # если файлы в ней есть, то очищаем папку от содержимого\n",
    "    # в самом конце выполняем загрузку файлов из гугл диска\n",
    "    \n",
    "    # получаем адрес текущей папки\n",
    "    directory = os.getcwd()\n",
    "    current_directory = os.path.join(directory, dashboadr_folder)\n",
    "    if dashboadr_folder not in list(os.listdir(directory)):\n",
    "        os.makedirs(current_directory) # создаем папку для сохранения файлов дашбордов\n",
    "    else:\n",
    "        current_files_list = list(os.listdir(os.path.join(directory, dashboadr_folder)))\n",
    "        if len(current_files_list)!=0:\n",
    "            for file in current_files_list:\n",
    "                os.remove(os.path.join(current_directory, file))\n",
    "    return current_directory"
   ]
  },
  {
   "cell_type": "code",
   "execution_count": 6,
   "id": "3c492d0e-a69b-45d9-bfda-4841ae6cb19e",
   "metadata": {},
   "outputs": [],
   "source": [
    "def get_files_to_yandex_disk(main_folder, base_link, name, report, yandex_token, flag='dashboard'):\n",
    "    name = name + '/'\n",
    "    if flag=='dashboard':\n",
    "        dashboadr_folder_path = os.path.join(path, dashboadr_folder)\n",
    "        content = os.path.join(dashboadr_folder_path, report)\n",
    "        file_name = report\n",
    "        name = name + dashboadr_folder\n",
    "        file_path = name  +  dashboadr_folder + '/' + report\n",
    "\n",
    "        delete_yandex_disk_file(main_folder, file_path, yandex_token)\n",
    "        \n",
    "        with open(content, 'rb') as f:\n",
    "            try:\n",
    "                upload_file_to_yandex_disk(main_folder, name, file_name, content, yandex_token)\n",
    "            except:\n",
    "                print('Ошибка при загрузке файла')\n",
    "    else:\n",
    "        spreadsheetId = get_sheet_id(base_link)\n",
    "        content = download_google_data(spreadsheetId)\n",
    "        file_name = report + '.xlsx'\n",
    "        file_path = name + file_name\n",
    "        \n",
    "        delete_yandex_disk_file(main_folder, file_path, yandex_token)\n",
    "        upload_file_to_yandex_disk(main_folder, name, file_name, content, yandex_token)\n",
    "\n",
    "    # delete_yandex_disk_file(main_folder, file_path, yandex_token)\n",
    "    # upload_file_to_yandex_disk(main_folder, name, file_name, content, yandex_token)"
   ]
  },
  {
   "cell_type": "code",
   "execution_count": 7,
   "id": "fd532078-0ad1-4002-ac09-b784eb39c963",
   "metadata": {},
   "outputs": [],
   "source": [
    "# функция для загрузки Excel файлов на Яндекс Диск\n",
    "# на входе принимает путь к основной папке\n",
    "# путь к папке сохранения\n",
    "# название файла (без расширения)\n",
    "# файл, который нужно сохранить\n",
    "# токен Яндекс\n",
    "def upload_file_to_yandex_disk(main_folder, file_path, file_name, content, yandex_token):\n",
    "    if '/' not in file_path[0]:\n",
    "        file_path = '/' + file_path\n",
    "    # добавляем расширение файла к его названию\n",
    "    # file_name = file_name + '.xlsx'\n",
    "    # формируем итоговый путь сохраненияфайла\n",
    "   \n",
    "    file_path = file_path + '/' + file_name\n",
    "    url_path = urlencode(dict(path=main_folder+file_path)) # кодируем полный путь сохранения файла вместе с его названием\n",
    "    \n",
    "    # добавляем флаг permanently=True для полного удаления файлов\n",
    "    final_url = upload_url + url_path + '&overwrite=True'\n",
    "    # формируем заголовки для дальнейших запросов\n",
    "    headers = {\n",
    "        'Content-Type': 'application/json', \n",
    "        'Accept': 'application/json', \n",
    "        'Authorization': f'OAuth {yandex_token}'\n",
    "    }\n",
    "   \n",
    "    #вызываем метод get для получения ссылки для загрузки файла\n",
    "    # это одноразовая ссылка, если загрузка не удалась, ссылку нужно получать заново\n",
    "    res = requests.get(final_url, headers=headers) \n",
    "    # парсим ответ сервера\n",
    "    data = json.loads(res.content)\n",
    "    # забираем ссылку для загрузки файла\n",
    "    download_link = data['href']\n",
    "    # отправляем файл на яндекс диск\n",
    "    status = requests.put(download_link, files={'file': content})\n",
    "    if status.status_code == 201:\n",
    "        print(f'Файл успешно загружен: {file_name}')\n",
    "    else:\n",
    "        print('Возможны ошибки - Проверьте Яндекс Диск')    "
   ]
  },
  {
   "cell_type": "code",
   "execution_count": null,
   "id": "a9d68077-f5b0-40f7-9712-9d9fd6f85140",
   "metadata": {},
   "outputs": [],
   "source": []
  },
  {
   "cell_type": "code",
   "execution_count": null,
   "id": "4f6cfff0-22c9-4b04-b43a-5b3af22a3884",
   "metadata": {},
   "outputs": [],
   "source": []
  },
  {
   "cell_type": "code",
   "execution_count": null,
   "id": "319f76ea-7cc2-4367-a3e0-960a9b5a176d",
   "metadata": {},
   "outputs": [],
   "source": [
    "dashboadr_folder"
   ]
  },
  {
   "cell_type": "code",
   "execution_count": null,
   "id": "0ce936db-94b6-4e89-9da4-18e836940a37",
   "metadata": {},
   "outputs": [],
   "source": [
    "from zipfile import ZipFile"
   ]
  },
  {
   "cell_type": "code",
   "execution_count": null,
   "id": "1887fef8-c677-43fa-83c0-265ba4dd75d2",
   "metadata": {},
   "outputs": [],
   "source": [
    "\n",
    "\n",
    "with ZipFile(\"metanit.zip\", \"w\") as myzip:\n",
    "    myzip.write(\"hello.txt\")"
   ]
  },
  {
   "cell_type": "code",
   "execution_count": null,
   "id": "3b646fc3-4c5e-479e-bae9-ee8d5dc27491",
   "metadata": {},
   "outputs": [],
   "source": [
    "current_folder"
   ]
  },
  {
   "cell_type": "code",
   "execution_count": 10,
   "id": "2194b159-fc28-46e0-af1e-a58a1dcb6d55",
   "metadata": {},
   "outputs": [],
   "source": [
    "current_folder = os.path.join(path, dashboadr_folder)"
   ]
  },
  {
   "cell_type": "code",
   "execution_count": null,
   "id": "6e62663d-d5e7-4740-84fc-250837c3954b",
   "metadata": {},
   "outputs": [],
   "source": [
    "files_list = list(os.listdir(current_folder))"
   ]
  },
  {
   "cell_type": "code",
   "execution_count": null,
   "id": "865fd365-d178-47f9-8030-f69605c3bbd9",
   "metadata": {},
   "outputs": [],
   "source": [
    "zip_folder_name = ('test.zip')\n",
    "for file in files_list:\n",
    "    with ZipFile(zip_folder_name, \"w\") as myzip:\n",
    "        myzip.write(os.path.join(current_folder, file))"
   ]
  },
  {
   "cell_type": "code",
   "execution_count": null,
   "id": "8c0fb543-38b5-40e2-a580-f0afd004953c",
   "metadata": {},
   "outputs": [],
   "source": [
    "files_list"
   ]
  },
  {
   "cell_type": "code",
   "execution_count": 11,
   "id": "f470eb77-df53-4058-a950-54fd1d2683fe",
   "metadata": {},
   "outputs": [
    {
     "data": {
      "text/plain": [
       "'C:\\\\Users\\\\o.bogomolov\\\\Desktop\\\\Jupyter_notebook\\\\34_03_download_files_from_google_to_yandex\\\\dashboards_folder.zip'"
      ]
     },
     "execution_count": 11,
     "metadata": {},
     "output_type": "execute_result"
    }
   ],
   "source": [
    "import shutil\n",
    "zip_name = 'dashboards_folder'\n",
    "directory_name = current_folder\n",
    "# Create 'path\\to\\zip_file.zip'\n",
    "shutil.make_archive(zip_name, 'zip', directory_name)"
   ]
  },
  {
   "cell_type": "code",
   "execution_count": null,
   "id": "34184c6d-25d7-423b-9daf-54037d431414",
   "metadata": {},
   "outputs": [],
   "source": []
  },
  {
   "cell_type": "code",
   "execution_count": null,
   "id": "b8ef2b99-29ea-4cfb-97c0-e3f6df24be27",
   "metadata": {},
   "outputs": [],
   "source": []
  },
  {
   "cell_type": "code",
   "execution_count": null,
   "id": "14b41668-9b40-46d1-a312-e00dc27123ec",
   "metadata": {},
   "outputs": [],
   "source": []
  },
  {
   "cell_type": "code",
   "execution_count": null,
   "id": "5a17c9af-5b59-400c-8059-76e3813e6705",
   "metadata": {},
   "outputs": [],
   "source": []
  }
 ],
 "metadata": {
  "kernelspec": {
   "display_name": "Python 3 (ipykernel)",
   "language": "python",
   "name": "python3"
  },
  "language_info": {
   "codemirror_mode": {
    "name": "ipython",
    "version": 3
   },
   "file_extension": ".py",
   "mimetype": "text/x-python",
   "name": "python",
   "nbconvert_exporter": "python",
   "pygments_lexer": "ipython3",
   "version": "3.11.7"
  }
 },
 "nbformat": 4,
 "nbformat_minor": 5
}
