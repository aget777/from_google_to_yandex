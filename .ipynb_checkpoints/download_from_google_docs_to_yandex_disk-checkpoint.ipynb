{
 "cells": [
  {
   "cell_type": "code",
   "execution_count": 5,
   "id": "6cb191f5-1f3f-4672-8de4-2e12af797a25",
   "metadata": {},
   "outputs": [
    {
     "name": "stdout",
     "output_type": "stream",
     "text": [
      "200\n"
     ]
    }
   ],
   "source": [
    "import pandas as pd\n",
    "import numpy as np\n",
    "import requests\n",
    "from io import BytesIO\n",
    "import os\n",
    "import yadisk\n",
    "import gdown\n",
    "\n",
    "import config\n",
    "from parse_functions import *\n",
    "from yandex_disk_func import *\n",
    "\n",
    "# ссылка на основной файл гугл докс (на каждом лите отдельный клиент со ссылками на файлы с данными)\n",
    "base_link = config.base_link\n",
    "yandex_token = config.yandex_token\n",
    "\n",
    "# указываем путь к основной папке, в которой храняться папки с флайтами\n",
    "main_folder = config.main_folder # путь к папке в формате /tmp\n",
    "public_key = config.public_key # обычная ссылка на доступ к папке  из личного кабинета\n",
    "\n",
    "# забираем список папок в нужной нам директории\n",
    "res = get_yandex_disk_folders(public_key)\n",
    "yandex_folders = res.json() # парсим ответ"
   ]
  },
  {
   "cell_type": "code",
   "execution_count": 2,
   "id": "ff100d9d-08fb-46d0-bfb1-2414c72d4e0f",
   "metadata": {},
   "outputs": [],
   "source": [
    "# Включаем отображение всех колонок\n",
    "pd.set_option('display.max_columns', None)\n",
    "# Задаем ширину столбцов по контенту\n",
    "pd.set_option('display.max_colwidth', None)\n",
    "pd.set_option('display.max_rows', None)\n",
    "pd.options.mode.chained_assignment = None"
   ]
  },
  {
   "cell_type": "code",
   "execution_count": 3,
   "id": "df8f040d-b0a8-4cad-9522-b9944b4d9808",
   "metadata": {},
   "outputs": [],
   "source": [
    "# забираем данные из основной управленческой таблицы\n",
    "content = get_data_from_sheet(base_link)\n",
    "sheet_names = pd.ExcelFile(content)"
   ]
  },
  {
   "cell_type": "code",
   "execution_count": 4,
   "id": "eea084a8-2e58-4512-bf7d-3c128df32df8",
   "metadata": {},
   "outputs": [
    {
     "data": {
      "text/plain": [
       "['Калининград МореАвто(ЮтоКарс)',\n",
       " 'Екатеринбург АтлантикПРО',\n",
       " 'АвтоБелогорье',\n",
       " 'DoubleTint']"
      ]
     },
     "execution_count": 4,
     "metadata": {},
     "output_type": "execute_result"
    }
   ],
   "source": [
    "sheet_names.sheet_names"
   ]
  },
  {
   "cell_type": "code",
   "execution_count": 7,
   "id": "46ebe76d-1057-4f74-959a-f46226c0c156",
   "metadata": {},
   "outputs": [
    {
     "name": "stdout",
     "output_type": "stream",
     "text": [
      "Калининград МореАвто(ЮтоКарс)\n",
      "калининград ап\n",
      "['Чек-лист', 'Учет_лидов', 'Тех_лист']\n",
      "Екатеринбург АтлантикПРО\n",
      "АвтоБелогорье\n",
      "DoubleTint\n"
     ]
    }
   ],
   "source": [
    "# создаем словарь, в который сохраним результаты парсинга всех отчетов\n",
    "tmp_reports_dict = {}\n",
    "# проходим через цикл по всем листам в управленческой таблице\n",
    "for name in sheet_names.sheet_names:\n",
    "    print(name)\n",
    "    cols_range = 'A:B' # задаем диапазон полей, которые нам нужны\n",
    "    df = pd.read_excel(content, sheet_name=name, usecols=cols_range, names=['report_name', 'report_link'])\n",
    "    # нормализуем назания отчетов - приводим в нижний регистр, обрезаем по краям, избаляемся от технических символов(перенос строки и тд)\n",
    "    df['report_name'] = df['report_name'].str.lower().str.strip().str.replace('\\n', ' ')\n",
    "    # создаем отдельный список с названиями отчетов и проодим по нему через цикл\n",
    "    reports_list = list(df['report_name'])\n",
    "    # запускаем блок парсинга отчетов\n",
    "    for report in reports_list:\n",
    "        if report == 'калининград ап':\n",
    "            print(report)\n",
    "            parse_info = df[df['report_name']==report].reset_index(drop=True)\n",
    "            get_parse_reports(parse_info, name, report)\n",
    "            "
   ]
  },
  {
   "cell_type": "code",
   "execution_count": null,
   "id": "1887fef8-c677-43fa-83c0-265ba4dd75d2",
   "metadata": {},
   "outputs": [],
   "source": []
  },
  {
   "cell_type": "code",
   "execution_count": 6,
   "id": "84ea8741-e41b-4b3c-b635-338766e81e98",
   "metadata": {},
   "outputs": [],
   "source": [
    "def get_parse_reports(df, name, report):\n",
    "    content = get_data_from_sheet(df['report_link'][0])\n",
    "    target_sheet_names = pd.ExcelFile(content)\n",
    "    print(target_sheet_names.sheet_names)"
   ]
  },
  {
   "cell_type": "code",
   "execution_count": null,
   "id": "9d9e1385-b2f3-457c-9005-30c51fcd2c08",
   "metadata": {},
   "outputs": [],
   "source": []
  },
  {
   "cell_type": "code",
   "execution_count": null,
   "id": "0c3bfd38-6fc5-4f32-8f07-c685a12e86c5",
   "metadata": {},
   "outputs": [],
   "source": []
  },
  {
   "cell_type": "code",
   "execution_count": 8,
   "id": "1f6f14d6-e92c-4679-8ef4-f2e0bd944d96",
   "metadata": {},
   "outputs": [
    {
     "data": {
      "text/plain": [
       "[{'public_key': '3FytuOp4ZlQgDJ978HgCLlhDPdHQRzDcdEX5DcehT71b0k2nAQnFI5krb7+2vpCXRmR/0fePyGwwW/WKW0/CEA==',\n",
       "  'name': 'test',\n",
       "  'exif': {},\n",
       "  'resource_id': '1130000059756022:c9b165d04f0b4b07b32ec888dd39671a38f13b72d3720c51559745c1440e5d02',\n",
       "  'created': '2024-10-16T08:10:27+00:00',\n",
       "  'modified': '2024-10-16T08:10:27+00:00',\n",
       "  'path': '/test',\n",
       "  'comment_ids': {'private_resource': '1130000059756022:c9b165d04f0b4b07b32ec888dd39671a38f13b72d3720c51559745c1440e5d02',\n",
       "   'public_resource': '1130000059756022:c9b165d04f0b4b07b32ec888dd39671a38f13b72d3720c51559745c1440e5d02'},\n",
       "  'type': 'dir',\n",
       "  'revision': 1729066227820299}]"
      ]
     },
     "execution_count": 8,
     "metadata": {},
     "output_type": "execute_result"
    }
   ],
   "source": [
    "yandex_folders['_embedded']['items']"
   ]
  },
  {
   "cell_type": "code",
   "execution_count": 9,
   "id": "3fd9f8bc-7454-4cef-b8ba-7efc71001e6d",
   "metadata": {},
   "outputs": [],
   "source": [
    "# создаем функцию, чтобы получить названия папок на яндекс диске\n",
    "# на входе принимаем ответ Яндекс диска с информацией о файлах на нем\n",
    "# если это директория (т.е. папка), то заносим ее имя в список\n",
    "def get_folder_name(yandex_res):\n",
    "    folder_list_names = []\n",
    "    for i in range(len(yandex_res)):\n",
    "        if yandex_res[i]['type']=='dir':\n",
    "            folder_list_names.append(yandex_res[i]['name'])\n",
    "\n",
    "    return folder_list_names"
   ]
  },
  {
   "cell_type": "code",
   "execution_count": 10,
   "id": "9c2fc64c-c574-4117-8387-010d9a740354",
   "metadata": {},
   "outputs": [
    {
     "name": "stdout",
     "output_type": "stream",
     "text": [
      "Калининград МореАвто(ЮтоКарс)\n"
     ]
    }
   ],
   "source": [
    "# вызываем функцию и забираем названия папок на яндекс диске\n",
    "folders_list = get_folder_name(yandex_folders['_embedded']['items'])\n",
    "\n",
    "\n",
    "name = 'Калининград МореАвто(ЮтоКарс)'\n",
    "\n",
    "if name not in folders_list:\n",
    "    print(name)\n",
    "    create_yandex_disk_folder(main_folder, name, yandex_token)\n",
    "   "
   ]
  },
  {
   "cell_type": "code",
   "execution_count": null,
   "id": "976610d3-2ab4-425d-9d9a-794ae8dbfd19",
   "metadata": {},
   "outputs": [],
   "source": []
  },
  {
   "cell_type": "code",
   "execution_count": null,
   "id": "b8482509-1bc6-48a3-9374-a44b61a62458",
   "metadata": {},
   "outputs": [],
   "source": [
    "public_key = yandex_folders['public_key']"
   ]
  },
  {
   "cell_type": "code",
   "execution_count": null,
   "id": "1c7f7ae6-792b-4e13-a800-84a69680bd80",
   "metadata": {},
   "outputs": [],
   "source": [
    "folders_list = []\n",
    "for i in range(len(yandex_folders['_embedded']['items'])): # через цикл проходим по ответу Яндекса и забираем названия вложенных папок\n",
    "    \n",
    "    file_type = yandex_folders['_embedded']['items'][i]['type']\n",
    "    if file_type=='dir':   # если находим файлы с типом dir (папка), то забираем путь к этой папке\n",
    "        # забираем название папки и путь к ней\n",
    "        folder_name = yandex_folders['_embedded']['items'][i]['name']\n",
    "        folder_path = yandex_folders['_embedded']['items'][i]['path']\n",
    "        print(folder_name)"
   ]
  },
  {
   "cell_type": "code",
   "execution_count": null,
   "id": "01a366ba-ec42-4721-81e1-d0cbc7116777",
   "metadata": {},
   "outputs": [],
   "source": []
  },
  {
   "cell_type": "code",
   "execution_count": null,
   "id": "2e48961c-bebc-4174-8ca4-7998661ccd18",
   "metadata": {},
   "outputs": [],
   "source": [
    "# очищаем локальную папку\n",
    "# если у нас что-то было загружено ДО\n",
    "# то удаляем все\n",
    "if os.path.exists(save_files_folder):\n",
    "    shutil.rmtree(save_files_folder)\n",
    "    sleep(5)\n",
    "    os.makedirs(save_files_folder)\n",
    "else:\n",
    "    os.makedirs(save_files_folder) # если временной папки не существует, то создаем ее\n",
    "\n",
    "print('Папка для сохранения креативов создана')"
   ]
  },
  {
   "cell_type": "code",
   "execution_count": null,
   "id": "57c4b3fa-bd2e-49ff-b4d6-0199da6ebfcd",
   "metadata": {},
   "outputs": [],
   "source": []
  },
  {
   "cell_type": "code",
   "execution_count": null,
   "id": "34fce1a1-fb7b-4497-9502-0540eb1e4c15",
   "metadata": {},
   "outputs": [],
   "source": []
  },
  {
   "cell_type": "code",
   "execution_count": null,
   "id": "c87fbaef-c1f9-4707-9532-a177ee41ebd5",
   "metadata": {},
   "outputs": [],
   "source": []
  },
  {
   "cell_type": "code",
   "execution_count": null,
   "id": "000cbf9e-1bbd-458a-97e0-877a0711f712",
   "metadata": {},
   "outputs": [],
   "source": []
  },
  {
   "cell_type": "code",
   "execution_count": null,
   "id": "02c17cdd-6b6c-401b-ae36-c2c9b9bbdae5",
   "metadata": {},
   "outputs": [],
   "source": []
  },
  {
   "cell_type": "code",
   "execution_count": null,
   "id": "ad7952d2-e499-433d-bc38-c1ac10e59a0d",
   "metadata": {},
   "outputs": [],
   "source": []
  },
  {
   "cell_type": "code",
   "execution_count": null,
   "id": "6287a94d-51f8-48ec-816b-9ef33f45b487",
   "metadata": {},
   "outputs": [],
   "source": []
  },
  {
   "cell_type": "code",
   "execution_count": null,
   "id": "1951c8b2-7cfe-4216-b275-b5a803db5824",
   "metadata": {},
   "outputs": [],
   "source": [
    "def get_data_from_ya_folder(yandex_folders, main_folder, file_path, yandex_token,\n",
    "                                              report_video_dict, report_banner_dict, report_video_views_dict,\n",
    "                           flag='new'):\n",
    "    public_key = yandex_folders['public_key']  # из ответа Яндекс забираем public_key, чтобы использовать его для скачивания файлов\n",
    "\n",
    "    for i in range(len(yandex_folders['_embedded']['items'])): # через цикл проходим по ответу Яндекса и забираем названия вложенных папок\n",
    "        file_type = yandex_folders['_embedded']['items'][i]['type']\n",
    "        if file_type=='dir':   # если находим файлы с типом dir (папка), то забираем путь к этой папке\n",
    "            folder_path = yandex_folders['_embedded']['items'][i]['path']\n",
    "            print(folder_path)\n",
    "            if flag in folder_path:\n",
    "                yandex_responce = get_yandex_disk_responce(base_public_url, public_key, folder_path) # отправляем запрос, чтобы получить содержимое папки\n",
    "        \n",
    "                # Через цикл проходим по папке с файлами\n",
    "                # Нас интересуют файлы эксель. Причем каждая экселька будет парситься по своему, т.к. они относятся к разным рекламным площадкам\n",
    "                \n",
    "                # Проходим через цикл по содержимому папки (отдельный флайт)\n",
    "                for i in range(len(yandex_responce['_embedded']['items'])):\n",
    "                    file_info = yandex_responce['_embedded']['items'][i]\n",
    "                    if file_info['type']=='file':  # если документ является фалйом(не папкой или изображением), то забираем его название \n",
    "                        file_name = file_info['name'] # сохраняем название файла\n",
    "                        if 'xls' in file_name: # еслит тип файла является xlsx, то уберем расширение и будем его использовать в качесвте названия отчета\n",
    "                            file_path = file_info['path']\n",
    "                            \n",
    "                            report_name = '.'.join(file_name.split('.')[:-1]) # убираем .xlsx из названия файла\n",
    "                            print(report_name)"
   ]
  },
  {
   "cell_type": "code",
   "execution_count": null,
   "id": "9fdbcace-f143-49d1-87aa-80c854c98696",
   "metadata": {},
   "outputs": [],
   "source": []
  },
  {
   "cell_type": "code",
   "execution_count": null,
   "id": "e69ddc17-3125-4f51-8441-ed75650b194f",
   "metadata": {},
   "outputs": [],
   "source": []
  },
  {
   "cell_type": "code",
   "execution_count": null,
   "id": "3883f2f0-5a40-4c73-a392-4a4a873fd2a7",
   "metadata": {},
   "outputs": [],
   "source": []
  },
  {
   "cell_type": "code",
   "execution_count": null,
   "id": "784a2a97-cf1e-4bd7-aba3-18ee7c87938d",
   "metadata": {},
   "outputs": [],
   "source": []
  },
  {
   "cell_type": "code",
   "execution_count": null,
   "id": "b3f83fa6-3d29-4010-a339-432ca6a6d3de",
   "metadata": {},
   "outputs": [],
   "source": []
  },
  {
   "cell_type": "code",
   "execution_count": null,
   "id": "f470eb77-df53-4058-a950-54fd1d2683fe",
   "metadata": {},
   "outputs": [],
   "source": []
  },
  {
   "cell_type": "code",
   "execution_count": null,
   "id": "9f5f14bf-c453-4c79-bb0d-913ea4e83e07",
   "metadata": {},
   "outputs": [],
   "source": []
  },
  {
   "cell_type": "code",
   "execution_count": null,
   "id": "dced31ce-18bf-43c7-8db8-fc9eab3c4cf2",
   "metadata": {},
   "outputs": [],
   "source": [
    "import io\n",
    "import os"
   ]
  },
  {
   "cell_type": "code",
   "execution_count": null,
   "id": "ded49664-7a48-44f9-adf0-420afa601738",
   "metadata": {},
   "outputs": [],
   "source": [
    "path = r'C:\\Users\\o.bogomolov\\Desktop\\Jupyter_notebook\\34_03_download_files_from_google_to_yandex\\test'\n",
    "file_name = 'test.xlsx'\n",
    "\n",
    "final_path = os.path.join(path, file_name)"
   ]
  },
  {
   "cell_type": "code",
   "execution_count": null,
   "id": "5f9bdf04-72e5-45c3-8505-9e32284418fe",
   "metadata": {},
   "outputs": [],
   "source": [
    "import requests\n",
    "response = requests.get('https://docs.google.com/spreadsheets/d/16z9hgAKPyWmZ0xGyHsUlq4knK-idq50WJRgOT2R5fts/export?format=xlsx')"
   ]
  },
  {
   "cell_type": "code",
   "execution_count": null,
   "id": "7446c771-9178-4663-926a-e86827f0c5c1",
   "metadata": {},
   "outputs": [],
   "source": [
    "with open(final_path, 'wb') as file:\n",
    "        file.write(response.content)"
   ]
  },
  {
   "cell_type": "code",
   "execution_count": null,
   "id": "700df484-0784-49c1-9dbe-1f9facd97109",
   "metadata": {},
   "outputs": [],
   "source": []
  },
  {
   "cell_type": "code",
   "execution_count": null,
   "id": "c838a7ca-f4c4-47ea-b8ac-af43eab0f350",
   "metadata": {},
   "outputs": [],
   "source": [
    "import gdown"
   ]
  },
  {
   "cell_type": "code",
   "execution_count": null,
   "id": "e04c3965-1116-408e-aef6-771cd6c6c541",
   "metadata": {},
   "outputs": [],
   "source": [
    "path = r'C:\\Users\\o.bogomolov\\Desktop\\Jupyter_notebook\\34_03_download_files_from_google_to_yandex\\test'"
   ]
  },
  {
   "cell_type": "code",
   "execution_count": null,
   "id": "f08bb538-814e-420f-83bc-0ecc825227f3",
   "metadata": {},
   "outputs": [],
   "source": [
    "folder_path = 'https://drive.google.com/drive/folders/1A6RHtXKIMneWUkD-Fs2oLrfbVwDk07Er?usp=sharing'"
   ]
  },
  {
   "cell_type": "code",
   "execution_count": null,
   "id": "3cc2ace4-c0ce-405b-b98c-d1a22ede3f6f",
   "metadata": {},
   "outputs": [],
   "source": [
    "gdown.download_folder(folder_path, output=path, quiet=True, use_cookies=False)"
   ]
  },
  {
   "cell_type": "code",
   "execution_count": null,
   "id": "1f5ffa3b-c044-4110-9640-680b5ffeff0a",
   "metadata": {},
   "outputs": [],
   "source": []
  }
 ],
 "metadata": {
  "kernelspec": {
   "display_name": "Python 3 (ipykernel)",
   "language": "python",
   "name": "python3"
  },
  "language_info": {
   "codemirror_mode": {
    "name": "ipython",
    "version": 3
   },
   "file_extension": ".py",
   "mimetype": "text/x-python",
   "name": "python",
   "nbconvert_exporter": "python",
   "pygments_lexer": "ipython3",
   "version": "3.11.7"
  }
 },
 "nbformat": 4,
 "nbformat_minor": 5
}
