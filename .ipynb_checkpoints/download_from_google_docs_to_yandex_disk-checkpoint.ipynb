{
 "cells": [
  {
   "cell_type": "code",
   "execution_count": 1,
   "id": "6cb191f5-1f3f-4672-8de4-2e12af797a25",
   "metadata": {},
   "outputs": [
    {
     "name": "stdout",
     "output_type": "stream",
     "text": [
      "200\n"
     ]
    }
   ],
   "source": [
    "import pandas as pd\n",
    "import numpy as np\n",
    "import requests\n",
    "from io import BytesIO\n",
    "import os\n",
    "import yadisk\n",
    "import gdown\n",
    "import json\n",
    "\n",
    "import config\n",
    "from parse_functions import *\n",
    "from yandex_disk_func import *\n",
    "from google_connector import *\n",
    "\n",
    "# ссылка на основной файл гугл докс (на каждом лите отдельный клиент со ссылками на файлы с данными)\n",
    "base_link = config.base_link\n",
    "yandex_token = config.yandex_token\n",
    "path = config.path\n",
    "dashboadr_folder = config.dashboadr_folder\n",
    "\n",
    "# указываем путь к основной папке, в которой храняться папки с флайтами\n",
    "main_folder = config.main_folder # путь к папке в формате /tmp\n",
    "public_key = config.public_key # обычная ссылка на доступ к папке  из личного кабинета\n",
    "\n",
    "# забираем список папок в нужной нам директории\n",
    "res = get_yandex_disk_folders(public_key)\n",
    "yandex_folders = res.json() # парсим ответ"
   ]
  },
  {
   "cell_type": "code",
   "execution_count": null,
   "id": "5a836d65-a81f-4572-91bb-1526c2b5b439",
   "metadata": {},
   "outputs": [],
   "source": []
  },
  {
   "cell_type": "code",
   "execution_count": 2,
   "id": "ff100d9d-08fb-46d0-bfb1-2414c72d4e0f",
   "metadata": {},
   "outputs": [],
   "source": [
    "# Включаем отображение всех колонок\n",
    "pd.set_option('display.max_columns', None)\n",
    "# Задаем ширину столбцов по контенту\n",
    "pd.set_option('display.max_colwidth', None)\n",
    "pd.set_option('display.max_rows', None)\n",
    "pd.options.mode.chained_assignment = None"
   ]
  },
  {
   "cell_type": "code",
   "execution_count": 3,
   "id": "df8f040d-b0a8-4cad-9522-b9944b4d9808",
   "metadata": {},
   "outputs": [],
   "source": [
    "# забираем данные из основной управленческой таблицы\n",
    "content = get_data_from_sheet(base_link)\n",
    "sheet_names = pd.ExcelFile(content)"
   ]
  },
  {
   "cell_type": "code",
   "execution_count": 4,
   "id": "eea084a8-2e58-4512-bf7d-3c128df32df8",
   "metadata": {},
   "outputs": [
    {
     "data": {
      "text/plain": [
       "['Калининград МореАвто(ЮтоКарс)',\n",
       " 'Екатеринбург АтлантикПРО',\n",
       " 'АвтоБелогорье',\n",
       " 'DoubleTint']"
      ]
     },
     "execution_count": 4,
     "metadata": {},
     "output_type": "execute_result"
    }
   ],
   "source": [
    "sheet_names.sheet_names"
   ]
  },
  {
   "cell_type": "code",
   "execution_count": 5,
   "id": "b6c61404-2cdc-48a5-881e-d4d8ad4d4a32",
   "metadata": {},
   "outputs": [],
   "source": [
    "# если появился новый клиент\n",
    "# мы проверяем, что этого названия НЕТ среди папок на Яндекс Диске\n",
    "# созлаем папку Клиента\n",
    "# внутри нее создаем папку для файлов дашбордов\n",
    "\n",
    "folders_list = get_folder_name(yandex_folders['_embedded']['items'])\n",
    "for name in sheet_names.sheet_names:\n",
    "    if name not in folders_list:\n",
    "        print(name)\n",
    "        dashboard_folder = '/' + name + '/' + dashboadr_folder\n",
    "        create_yandex_disk_folder(main_folder, name, yandex_token)\n",
    "        create_yandex_disk_folder(main_folder, dashboard_folder, yandex_token)"
   ]
  },
  {
   "cell_type": "code",
   "execution_count": null,
   "id": "9ddf0d3f-aeb3-4e77-8da5-91db1e925d21",
   "metadata": {},
   "outputs": [],
   "source": []
  },
  {
   "cell_type": "code",
   "execution_count": null,
   "id": "0f3261cc-050e-4b80-97d9-06b63e0c4e2b",
   "metadata": {},
   "outputs": [],
   "source": []
  },
  {
   "cell_type": "code",
   "execution_count": null,
   "id": "9a8beaa5-367f-4b18-8bce-0e7a4acb8f78",
   "metadata": {},
   "outputs": [],
   "source": []
  },
  {
   "cell_type": "code",
   "execution_count": 8,
   "id": "46ebe76d-1057-4f74-959a-f46226c0c156",
   "metadata": {},
   "outputs": [
    {
     "name": "stdout",
     "output_type": "stream",
     "text": [
      "200\n",
      "Калининград МореАвто(ЮтоКарс)\n",
      "https://drive.google.com/drive/folders/1A6RHtXKIMneWUkD-Fs2oLrfbVwDk07Er?usp=drive_link\n"
     ]
    },
    {
     "ename": "FileURLRetrievalError",
     "evalue": "Failed to retrieve file url:\n\n\tCannot retrieve the public link of the file. You may need to change\n\tthe permission to 'Anyone with the link', or have had many accesses.\n\tCheck FAQ in https://github.com/wkentaro/gdown?tab=readme-ov-file#faq.\n\nYou may still be able to access the file from the browser:\n\n\thttps://drive.google.com/uc?id=1xsN7KHHVx2TDOgQmRAswiq7pP1JuIfm_\n\nbut Gdown can't. Please check connections and permissions.",
     "output_type": "error",
     "traceback": [
      "\u001b[1;31m---------------------------------------------------------------------------\u001b[0m",
      "\u001b[1;31mFileURLRetrievalError\u001b[0m                     Traceback (most recent call last)",
      "File \u001b[1;32mC:\\ProgramData\\anaconda3\\Lib\\site-packages\\gdown\\download.py:267\u001b[0m, in \u001b[0;36mdownload\u001b[1;34m(url, output, quiet, proxy, speed, use_cookies, verify, id, fuzzy, resume, format, user_agent, log_messages)\u001b[0m\n\u001b[0;32m    266\u001b[0m \u001b[38;5;28;01mtry\u001b[39;00m:\n\u001b[1;32m--> 267\u001b[0m     url \u001b[38;5;241m=\u001b[39m get_url_from_gdrive_confirmation(res\u001b[38;5;241m.\u001b[39mtext)\n\u001b[0;32m    268\u001b[0m \u001b[38;5;28;01mexcept\u001b[39;00m FileURLRetrievalError \u001b[38;5;28;01mas\u001b[39;00m e:\n",
      "File \u001b[1;32mC:\\ProgramData\\anaconda3\\Lib\\site-packages\\gdown\\download.py:55\u001b[0m, in \u001b[0;36mget_url_from_gdrive_confirmation\u001b[1;34m(contents)\u001b[0m\n\u001b[0;32m     54\u001b[0m \u001b[38;5;28;01mif\u001b[39;00m \u001b[38;5;129;01mnot\u001b[39;00m url:\n\u001b[1;32m---> 55\u001b[0m     \u001b[38;5;28;01mraise\u001b[39;00m FileURLRetrievalError(\n\u001b[0;32m     56\u001b[0m         \u001b[38;5;124m\"\u001b[39m\u001b[38;5;124mCannot retrieve the public link of the file. \u001b[39m\u001b[38;5;124m\"\u001b[39m\n\u001b[0;32m     57\u001b[0m         \u001b[38;5;124m\"\u001b[39m\u001b[38;5;124mYou may need to change the permission to \u001b[39m\u001b[38;5;124m\"\u001b[39m\n\u001b[0;32m     58\u001b[0m         \u001b[38;5;124m\"\u001b[39m\u001b[38;5;124m'\u001b[39m\u001b[38;5;124mAnyone with the link\u001b[39m\u001b[38;5;124m'\u001b[39m\u001b[38;5;124m, or have had many accesses. \u001b[39m\u001b[38;5;124m\"\u001b[39m\n\u001b[0;32m     59\u001b[0m         \u001b[38;5;124m\"\u001b[39m\u001b[38;5;124mCheck FAQ in https://github.com/wkentaro/gdown?tab=readme-ov-file#faq.\u001b[39m\u001b[38;5;124m\"\u001b[39m,\n\u001b[0;32m     60\u001b[0m     )\n\u001b[0;32m     61\u001b[0m \u001b[38;5;28;01mreturn\u001b[39;00m url\n",
      "\u001b[1;31mFileURLRetrievalError\u001b[0m: Cannot retrieve the public link of the file. You may need to change the permission to 'Anyone with the link', or have had many accesses. Check FAQ in https://github.com/wkentaro/gdown?tab=readme-ov-file#faq.",
      "\nDuring handling of the above exception, another exception occurred:\n",
      "\u001b[1;31mFileURLRetrievalError\u001b[0m                     Traceback (most recent call last)",
      "Cell \u001b[1;32mIn[8], line 31\u001b[0m\n\u001b[0;32m     29\u001b[0m current_directory \u001b[38;5;241m=\u001b[39m get_dashboards_folder(dashboadr_folder)\n\u001b[0;32m     30\u001b[0m download_link \u001b[38;5;241m=\u001b[39m base_link \u001b[38;5;241m+\u001b[39m \u001b[38;5;124m'\u001b[39m\u001b[38;5;124m&confirm=t\u001b[39m\u001b[38;5;124m'\u001b[39m\n\u001b[1;32m---> 31\u001b[0m gdown\u001b[38;5;241m.\u001b[39mdownload_folder(download_link, output\u001b[38;5;241m=\u001b[39mcurrent_directory, quiet\u001b[38;5;241m=\u001b[39m\u001b[38;5;28;01mTrue\u001b[39;00m, use_cookies\u001b[38;5;241m=\u001b[39m\u001b[38;5;28;01mFalse\u001b[39;00m)\n\u001b[0;32m     32\u001b[0m \u001b[38;5;66;03m# получаем список файлов дашбордов\u001b[39;00m\n\u001b[0;32m     33\u001b[0m current_files_list \u001b[38;5;241m=\u001b[39m \u001b[38;5;28mlist\u001b[39m(os\u001b[38;5;241m.\u001b[39mlistdir(current_directory))\n",
      "File \u001b[1;32mC:\\ProgramData\\anaconda3\\Lib\\site-packages\\gdown\\download_folder.py:325\u001b[0m, in \u001b[0;36mdownload_folder\u001b[1;34m(url, id, output, quiet, proxy, speed, use_cookies, remaining_ok, verify, user_agent, skip_download, resume)\u001b[0m\n\u001b[0;32m    322\u001b[0m     files\u001b[38;5;241m.\u001b[39mappend(local_path)\n\u001b[0;32m    323\u001b[0m     \u001b[38;5;28;01mcontinue\u001b[39;00m\n\u001b[1;32m--> 325\u001b[0m local_path \u001b[38;5;241m=\u001b[39m download(\n\u001b[0;32m    326\u001b[0m     url\u001b[38;5;241m=\u001b[39m\u001b[38;5;124m\"\u001b[39m\u001b[38;5;124mhttps://drive.google.com/uc?id=\u001b[39m\u001b[38;5;124m\"\u001b[39m \u001b[38;5;241m+\u001b[39m \u001b[38;5;28mid\u001b[39m,\n\u001b[0;32m    327\u001b[0m     output\u001b[38;5;241m=\u001b[39mlocal_path,\n\u001b[0;32m    328\u001b[0m     quiet\u001b[38;5;241m=\u001b[39mquiet,\n\u001b[0;32m    329\u001b[0m     proxy\u001b[38;5;241m=\u001b[39mproxy,\n\u001b[0;32m    330\u001b[0m     speed\u001b[38;5;241m=\u001b[39mspeed,\n\u001b[0;32m    331\u001b[0m     use_cookies\u001b[38;5;241m=\u001b[39muse_cookies,\n\u001b[0;32m    332\u001b[0m     verify\u001b[38;5;241m=\u001b[39mverify,\n\u001b[0;32m    333\u001b[0m     resume\u001b[38;5;241m=\u001b[39mresume,\n\u001b[0;32m    334\u001b[0m )\n\u001b[0;32m    335\u001b[0m \u001b[38;5;28;01mif\u001b[39;00m local_path \u001b[38;5;129;01mis\u001b[39;00m \u001b[38;5;28;01mNone\u001b[39;00m:\n\u001b[0;32m    336\u001b[0m     \u001b[38;5;28;01mif\u001b[39;00m \u001b[38;5;129;01mnot\u001b[39;00m quiet:\n",
      "File \u001b[1;32mC:\\ProgramData\\anaconda3\\Lib\\site-packages\\gdown\\download.py:278\u001b[0m, in \u001b[0;36mdownload\u001b[1;34m(url, output, quiet, proxy, speed, use_cookies, verify, id, fuzzy, resume, format, user_agent, log_messages)\u001b[0m\n\u001b[0;32m    268\u001b[0m     \u001b[38;5;28;01mexcept\u001b[39;00m FileURLRetrievalError \u001b[38;5;28;01mas\u001b[39;00m e:\n\u001b[0;32m    269\u001b[0m         message \u001b[38;5;241m=\u001b[39m (\n\u001b[0;32m    270\u001b[0m             \u001b[38;5;124m\"\u001b[39m\u001b[38;5;124mFailed to retrieve file url:\u001b[39m\u001b[38;5;130;01m\\n\u001b[39;00m\u001b[38;5;130;01m\\n\u001b[39;00m\u001b[38;5;132;01m{}\u001b[39;00m\u001b[38;5;130;01m\\n\u001b[39;00m\u001b[38;5;130;01m\\n\u001b[39;00m\u001b[38;5;124m\"\u001b[39m\n\u001b[0;32m    271\u001b[0m             \u001b[38;5;124m\"\u001b[39m\u001b[38;5;124mYou may still be able to access the file from the browser:\u001b[39m\u001b[38;5;124m\"\u001b[39m\n\u001b[1;32m   (...)\u001b[0m\n\u001b[0;32m    276\u001b[0m             url_origin,\n\u001b[0;32m    277\u001b[0m         )\n\u001b[1;32m--> 278\u001b[0m         \u001b[38;5;28;01mraise\u001b[39;00m FileURLRetrievalError(message)\n\u001b[0;32m    280\u001b[0m filename_from_url \u001b[38;5;241m=\u001b[39m \u001b[38;5;28;01mNone\u001b[39;00m\n\u001b[0;32m    281\u001b[0m last_modified_time \u001b[38;5;241m=\u001b[39m \u001b[38;5;28;01mNone\u001b[39;00m\n",
      "\u001b[1;31mFileURLRetrievalError\u001b[0m: Failed to retrieve file url:\n\n\tCannot retrieve the public link of the file. You may need to change\n\tthe permission to 'Anyone with the link', or have had many accesses.\n\tCheck FAQ in https://github.com/wkentaro/gdown?tab=readme-ov-file#faq.\n\nYou may still be able to access the file from the browser:\n\n\thttps://drive.google.com/uc?id=1xsN7KHHVx2TDOgQmRAswiq7pP1JuIfm_\n\nbut Gdown can't. Please check connections and permissions."
     ]
    }
   ],
   "source": [
    "# обновляем список папок на Яндекс диске\n",
    "res = get_yandex_disk_folders(public_key)\n",
    "yandex_folders = res.json() # парсим ответ\n",
    "\n",
    "# проходим через цикл по всем листам в управленческой таблице\n",
    "# вызываем функцию и забираем названия папок на яндекс диске\n",
    "folders_list = get_folder_name(yandex_folders['_embedded']['items'])\n",
    "\n",
    "for name in sheet_names.sheet_names:\n",
    "    print(name)\n",
    "    \n",
    "    cols_range = 'A:B' # задаем диапазон полей, которые нам нужны\n",
    "    df = pd.read_excel(content, sheet_name=name, usecols=cols_range, names=['report_name', 'report_link'])\n",
    "    # нормализуем назания отчетов - приводим в нижний регистр, обрезаем по краям, избаляемся от технических символов(перенос строки и тд)\n",
    "    df['report_name'] = df['report_name'].str.lower().str.strip().str.replace('\\n', ' ')\n",
    "    # создаем отдельный список с названиями отчетов и проодим по нему через цикл\n",
    "    reports_list = list(df['report_name'])\n",
    "    # запускаем блок парсинга отчетов\n",
    "    \n",
    "\n",
    "    for report in reports_list:\n",
    "        # print(report)\n",
    "        if name=='Калининград МореАвто(ЮтоКарс)' and report == 'файлы дашбордов':\n",
    "            parse_info = df[df['report_name']==report].reset_index(drop=True)\n",
    "            base_link = parse_info['report_link'][0]\n",
    "            print(base_link)\n",
    "            # создаем папку для сохранения дашбордов, если ее нет\n",
    "            # если она есть, то очищаем ее от файлов\n",
    "            current_directory = get_dashboards_folder(dashboadr_folder)\n",
    "          \n",
    "            gdown.download_folder(base_link, output=current_directory, quiet=True, use_cookies=False)\n",
    "            # получаем список файлов дашбордов\n",
    "            current_files_list = list(os.listdir(current_directory))\n",
    "            if len(current_files_list) > 0:\n",
    "                for report in current_files_list:\n",
    "                    get_files_to_yandex_disk(main_folder, base_link, name, report, yandex_token, flag='dashboard')\n",
    "        # else:\n",
    "        #     parse_info = df[df['report_name']==report].reset_index(drop=True)\n",
    "        #     base_link = parse_info['report_link'][0]\n",
    "            \n",
    "        #     get_data_to_yandex_disk(main_folder, base_link, name, report, yandex_token, flag='xlsx')"
   ]
  },
  {
   "cell_type": "code",
   "execution_count": null,
   "id": "3684b34b-fb7c-4286-9e25-4e24fe6a1c30",
   "metadata": {},
   "outputs": [],
   "source": [
    "dashboadr_folder_path = os.path.join(path, dashboadr_folder)"
   ]
  },
  {
   "cell_type": "code",
   "execution_count": null,
   "id": "ccbd7648-d060-4f55-b71c-18a04b0f4ca5",
   "metadata": {},
   "outputs": [],
   "source": [
    "report"
   ]
  },
  {
   "cell_type": "code",
   "execution_count": null,
   "id": "221a4d15-578b-48b1-92da-6367bd7542f2",
   "metadata": {},
   "outputs": [],
   "source": [
    "content = os.path(dashboadr_folder_path, report)"
   ]
  },
  {
   "cell_type": "code",
   "execution_count": null,
   "id": "c231a057-14ff-4b05-9fb7-e37cb63640fb",
   "metadata": {},
   "outputs": [],
   "source": [
    "# получаем адрес текущей папки\n",
    "directory = os.getcwd()\n",
    "current_directory = os.path.join(directory, dashboadr_folder)\n",
    "current_files_list = list(os.listdir(current_directory))\n"
   ]
  },
  {
   "cell_type": "code",
   "execution_count": null,
   "id": "3f53a474-6a7a-43a6-b01a-c1a548043390",
   "metadata": {},
   "outputs": [],
   "source": [
    "current_files_list"
   ]
  },
  {
   "cell_type": "code",
   "execution_count": null,
   "id": "67aea3b4-6838-4954-b9a1-09e43eecfa69",
   "metadata": {},
   "outputs": [],
   "source": []
  },
  {
   "cell_type": "code",
   "execution_count": null,
   "id": "79e7fc33-56f3-4f59-b7c3-fc1ca334c5b9",
   "metadata": {},
   "outputs": [],
   "source": []
  },
  {
   "cell_type": "code",
   "execution_count": null,
   "id": "3f6d00d1-e73b-42b6-92a6-5ca13b7a65e3",
   "metadata": {},
   "outputs": [],
   "source": [
    "def get_dashboards_folder(dashboadr_folder):\n",
    "    # проверяем - существует папка для временного сохранения файлов или нет\n",
    "    # если ее нет, то создаем\n",
    "    # если папка существует, то проверяем в ней наличие файлов\n",
    "    # если файлы в ней есть, то очищаем папку от содержимого\n",
    "    # в самом конце выполняем загрузку файлов из гугл диска\n",
    "    \n",
    "    # получаем адрес текущей папки\n",
    "    directory = os.getcwd()\n",
    "    current_directory = os.path.join(directory, dashboadr_folder)\n",
    "    if dashboadr_folder not in list(os.listdir(directory)):\n",
    "        os.makedirs(current_directory) # создаем папку для сохранения файлов дашбордов\n",
    "    else:\n",
    "        current_files_list = list(os.listdir(os.path.join(directory, dashboadr_folder)))\n",
    "        if len(current_files_list)!=0:\n",
    "            for file in current_files_list:\n",
    "                os.remove(os.path.join(current_directory, file))\n",
    "    return current_directory"
   ]
  },
  {
   "cell_type": "code",
   "execution_count": 6,
   "id": "3c492d0e-a69b-45d9-bfda-4841ae6cb19e",
   "metadata": {},
   "outputs": [],
   "source": [
    "def get_files_to_yandex_disk(main_folder, base_link, name, report, yandex_token, flag='dashboard'):\n",
    "    name = name + '/'\n",
    "    if flag=='dashboard':\n",
    "        dashboadr_folder_path = os.path.join(path, dashboadr_folder)\n",
    "        content = os.path.join(dashboadr_folder_path, report)\n",
    "        file_name = report\n",
    "        name = name + dashboadr_folder\n",
    "        file_path = name  +  dashboadr_folder + '/' + report\n",
    "    else:\n",
    "        spreadsheetId = get_sheet_id(base_link)\n",
    "        content = download_google_data(spreadsheetId)\n",
    "        file_name = report + '.xlsx'\n",
    "        file_path = name + file_name\n",
    "\n",
    "    delete_yandex_disk_file(main_folder, file_path, yandex_token)\n",
    "    upload_file_to_yandex_disk(main_folder, name, file_name, content, yandex_token)"
   ]
  },
  {
   "cell_type": "code",
   "execution_count": 7,
   "id": "fd532078-0ad1-4002-ac09-b784eb39c963",
   "metadata": {},
   "outputs": [],
   "source": [
    "# функция для загрузки Excel файлов на Яндекс Диск\n",
    "# на входе принимает путь к основной папке\n",
    "# путь к папке сохранения\n",
    "# название файла (без расширения)\n",
    "# файл, который нужно сохранить\n",
    "# токен Яндекс\n",
    "def upload_file_to_yandex_disk(main_folder, file_path, file_name, content, yandex_token):\n",
    "    if '/' not in file_path[0]:\n",
    "        file_path = '/' + file_path\n",
    "    # добавляем расширение файла к его названию\n",
    "    # file_name = file_name + '.xlsx'\n",
    "    # формируем итоговый путь сохраненияфайла\n",
    "   \n",
    "    file_path = file_path + '/' + file_name\n",
    "    url_path = urlencode(dict(path=main_folder+file_path)) # кодируем полный путь сохранения файла вместе с его названием\n",
    "    \n",
    "    # добавляем флаг permanently=True для полного удаления файлов\n",
    "    final_url = upload_url + url_path + '&overwrite=True'\n",
    "    # формируем заголовки для дальнейших запросов\n",
    "    headers = {\n",
    "        'Content-Type': 'application/json', \n",
    "        'Accept': 'application/json', \n",
    "        'Authorization': f'OAuth {yandex_token}'\n",
    "    }\n",
    "   \n",
    "    #вызываем метод get для получения ссылки для загрузки файла\n",
    "    # это одноразовая ссылка, если загрузка не удалась, ссылку нужно получать заново\n",
    "    res = requests.get(final_url, headers=headers) \n",
    "    # парсим ответ сервера\n",
    "    data = json.loads(res.content)\n",
    "    # забираем ссылку для загрузки файла\n",
    "    download_link = data['href']\n",
    "    # отправляем файл на яндекс диск\n",
    "    status = requests.put(download_link, files={'file': content})\n",
    "    if status.status_code == 201:\n",
    "        print(f'Файл успешно загружен: {file_name}')\n",
    "    else:\n",
    "        print('Возможны ошибки - Проверьте Яндекс Диск')    "
   ]
  },
  {
   "cell_type": "code",
   "execution_count": null,
   "id": "319f76ea-7cc2-4367-a3e0-960a9b5a176d",
   "metadata": {},
   "outputs": [],
   "source": [
    "folderId"
   ]
  },
  {
   "cell_type": "code",
   "execution_count": null,
   "id": "0ce936db-94b6-4e89-9da4-18e836940a37",
   "metadata": {},
   "outputs": [],
   "source": [
    "os.getcwd()"
   ]
  },
  {
   "cell_type": "code",
   "execution_count": null,
   "id": "1887fef8-c677-43fa-83c0-265ba4dd75d2",
   "metadata": {},
   "outputs": [],
   "source": [
    "# получаем адрес текущей папки\n",
    "directory = os.getcwd()"
   ]
  },
  {
   "cell_type": "code",
   "execution_count": null,
   "id": "f470eb77-df53-4058-a950-54fd1d2683fe",
   "metadata": {},
   "outputs": [],
   "source": [
    "base_link"
   ]
  },
  {
   "cell_type": "code",
   "execution_count": null,
   "id": "9f5f14bf-c453-4c79-bb0d-913ea4e83e07",
   "metadata": {},
   "outputs": [],
   "source": [
    "url_path"
   ]
  },
  {
   "cell_type": "code",
   "execution_count": null,
   "id": "5ef70b7d-b53b-415d-8cab-b6c0ed5d07df",
   "metadata": {},
   "outputs": [],
   "source": [
    "# проверяем - существует папка для временного сохранения файлов или нет\n",
    "# если ее нет, то создаем\n",
    "# если папка существует, то проверяем в ней наличие файлов\n",
    "# если файлы в ней есть, то очищаем папку от содержимого\n",
    "# в самом конце выполняем загрузку файлов из гугл диска\n",
    "current_directory = os.path.join(directory, 'Файлы дашбордов')\n",
    "if 'Файлы дашбордов' not in list(os.listdir(directory)):\n",
    "    print(1)\n",
    "    folder_name = 'Файлы дашбордов'\n",
    "    os.makedirs(current_directory)\n",
    "else:\n",
    "    print(0)\n",
    "    current_files_list = list(os.listdir(os.path.join(directory, 'Файлы дашбордов')))\n",
    "    if len(current_files_list)!=0:\n",
    "        for file in current_files_list:\n",
    "            os.remove(os.path.join(current_directory, file))\n",
    "        \n",
    "gdown.download_folder(base_link, output=current_directory, quiet=True, use_cookies=False)"
   ]
  },
  {
   "cell_type": "code",
   "execution_count": null,
   "id": "ba81a3b2-c1a6-4cb1-a48c-95f6df2000ba",
   "metadata": {},
   "outputs": [],
   "source": [
    "os.path.join(directory, 'Файлы дашбордов')"
   ]
  },
  {
   "cell_type": "code",
   "execution_count": null,
   "id": "48540de3-32e3-48bf-b594-4bb6d087c0b7",
   "metadata": {},
   "outputs": [],
   "source": [
    "os.remove(os.path.join(directory, 'Файлы дашбордов'))"
   ]
  },
  {
   "cell_type": "code",
   "execution_count": null,
   "id": "22814e02-3186-4d97-b5e5-d2fd40558bf4",
   "metadata": {},
   "outputs": [],
   "source": [
    "current_files_list = list(os.listdir(os.path.join(directory, 'Файлы дашбордов')))"
   ]
  },
  {
   "cell_type": "code",
   "execution_count": null,
   "id": "5fd12ca6-d858-461e-8fce-44810aeece74",
   "metadata": {},
   "outputs": [],
   "source": [
    "len(current_files_list)"
   ]
  },
  {
   "cell_type": "code",
   "execution_count": null,
   "id": "ec5df420-833d-47a5-863d-e31f9f84397f",
   "metadata": {},
   "outputs": [],
   "source": [
    "current_directory = os.path.join(directory, 'Файлы дашбордов')\n",
    "for file in current_files_list:\n",
    "    os.remove(os.path.join(current_directory, file))"
   ]
  },
  {
   "cell_type": "code",
   "execution_count": null,
   "id": "dfa1f027-b294-4dc9-81f2-80691138d03c",
   "metadata": {},
   "outputs": [],
   "source": []
  },
  {
   "cell_type": "code",
   "execution_count": null,
   "id": "dced31ce-18bf-43c7-8db8-fc9eab3c4cf2",
   "metadata": {},
   "outputs": [],
   "source": [
    "import io\n",
    "import os"
   ]
  },
  {
   "cell_type": "code",
   "execution_count": null,
   "id": "ffe215d4-7d7d-41a2-ac49-a2969d8f11fb",
   "metadata": {},
   "outputs": [],
   "source": []
  },
  {
   "cell_type": "code",
   "execution_count": null,
   "id": "ded49664-7a48-44f9-adf0-420afa601738",
   "metadata": {},
   "outputs": [],
   "source": [
    "path = r'C:\\Users\\o.bogomolov\\Desktop\\Jupyter_notebook\\34_03_download_files_from_google_to_yandex\\test'\n",
    "file_name = 'test.xlsx'\n",
    "\n",
    "final_path = os.path.join(path, file_name)"
   ]
  },
  {
   "cell_type": "code",
   "execution_count": null,
   "id": "5f9bdf04-72e5-45c3-8505-9e32284418fe",
   "metadata": {},
   "outputs": [],
   "source": [
    "import requests\n",
    "response = requests.get('https://docs.google.com/spreadsheets/d/16z9hgAKPyWmZ0xGyHsUlq4knK-idq50WJRgOT2R5fts/export?format=xlsx')"
   ]
  },
  {
   "cell_type": "code",
   "execution_count": null,
   "id": "7446c771-9178-4663-926a-e86827f0c5c1",
   "metadata": {},
   "outputs": [],
   "source": [
    "with open(final_path, 'wb') as file:\n",
    "        file.write(response.content)"
   ]
  },
  {
   "cell_type": "code",
   "execution_count": null,
   "id": "934ada0f-77ed-41bd-b15e-9e246f6f213d",
   "metadata": {},
   "outputs": [],
   "source": []
  },
  {
   "cell_type": "code",
   "execution_count": null,
   "id": "4cb8bd88-6213-4a9d-bca4-77668d447ff9",
   "metadata": {},
   "outputs": [],
   "source": [
    "path = r'C:\\Users\\o.bogomolov\\Desktop\\Jupyter_notebook\\34_03_download_files_from_google_to_yandex\\test'\n",
    "file_name = 'test.zip'\n",
    "\n",
    "final_path = os.path.join(path, file_name)"
   ]
  },
  {
   "cell_type": "code",
   "execution_count": null,
   "id": "3a39fdd9-a3de-433a-8ab3-e0b41e7a372d",
   "metadata": {},
   "outputs": [],
   "source": [
    "folder_path = 'https://drive.google.com/drive/folders/1A6RHtXKIMneWUkD-Fs2oLrfbVwDk07Er?usp=sharing'"
   ]
  },
  {
   "cell_type": "code",
   "execution_count": null,
   "id": "459b0c28-144d-49ea-bc44-24f1caca7485",
   "metadata": {},
   "outputs": [],
   "source": [
    "id = '1A6RHtXKIMneWUkD-Fs2oLrfbVwDk07Er'"
   ]
  },
  {
   "cell_type": "code",
   "execution_count": null,
   "id": "7cb7cd98-c838-4013-a734-6a5fbff3c3f2",
   "metadata": {},
   "outputs": [],
   "source": []
  },
  {
   "cell_type": "code",
   "execution_count": null,
   "id": "f216adbd-f293-4142-a52a-e292cf91a7cf",
   "metadata": {},
   "outputs": [],
   "source": [
    "url = f'https://drive.google.com/uc?id={id}&export=download'"
   ]
  },
  {
   "cell_type": "code",
   "execution_count": null,
   "id": "99836f0d-c4c2-4108-8b7a-fad67c98cad9",
   "metadata": {},
   "outputs": [],
   "source": [
    "response = requests.get(url)"
   ]
  },
  {
   "cell_type": "code",
   "execution_count": null,
   "id": "31a85e93-a51a-4111-a09d-3bfbb3d06d2f",
   "metadata": {},
   "outputs": [],
   "source": []
  },
  {
   "cell_type": "code",
   "execution_count": null,
   "id": "8f81182f-48f1-489b-ba13-b0bb255bd134",
   "metadata": {},
   "outputs": [],
   "source": [
    "with open(final_path, \"wb\") as file:\n",
    "    file.write(response.content)"
   ]
  },
  {
   "cell_type": "code",
   "execution_count": null,
   "id": "cef93bca-1398-41a7-a4ff-0ea715980bb1",
   "metadata": {},
   "outputs": [],
   "source": [
    "response.content"
   ]
  },
  {
   "cell_type": "code",
   "execution_count": null,
   "id": "27326e1e-f2f0-4ca1-87c4-cd7064b56d04",
   "metadata": {},
   "outputs": [],
   "source": [
    "url = f'https://drive.usercontent.google.com/download?id={id}&confirm=xxx'"
   ]
  },
  {
   "cell_type": "code",
   "execution_count": null,
   "id": "6cbb9cbb-aa30-49ea-8293-e34320a4181e",
   "metadata": {},
   "outputs": [],
   "source": [
    "response = requests.get(url)"
   ]
  },
  {
   "cell_type": "code",
   "execution_count": null,
   "id": "92618017-ea2c-497f-9e56-f319137f1666",
   "metadata": {},
   "outputs": [],
   "source": [
    "with open(final_path, \"wb\") as file:\n",
    "    file.write(response.content)"
   ]
  },
  {
   "cell_type": "code",
   "execution_count": null,
   "id": "fa28aea5-3321-41e8-95fa-fc19f58a4a68",
   "metadata": {},
   "outputs": [],
   "source": []
  },
  {
   "cell_type": "code",
   "execution_count": null,
   "id": "13c650e1-830f-461a-adc9-c04c46f99fcb",
   "metadata": {},
   "outputs": [],
   "source": [
    "content = response.content"
   ]
  },
  {
   "cell_type": "code",
   "execution_count": null,
   "id": "e91dfa08-9cf6-4746-b75c-ca92a6f9c9aa",
   "metadata": {},
   "outputs": [],
   "source": [
    "myzip = ZipFile(BytesIO(content))"
   ]
  },
  {
   "cell_type": "code",
   "execution_count": null,
   "id": "77addba5-a629-41f8-8f48-7e2a1c57e5d5",
   "metadata": {},
   "outputs": [],
   "source": [
    "from io import BytesIO\n",
    "from zipfile import ZipFile\n",
    "from urllib.request import urlopen"
   ]
  },
  {
   "cell_type": "code",
   "execution_count": null,
   "id": "9cb3262b-dfb3-4a85-aead-f42e1a4d38df",
   "metadata": {},
   "outputs": [],
   "source": [
    "myzip = ZipFile(BytesIO(content))\n"
   ]
  },
  {
   "cell_type": "code",
   "execution_count": null,
   "id": "4984e7fe-728c-49d6-a920-15ba0ed967d9",
   "metadata": {},
   "outputs": [],
   "source": [
    "with open(final_path, \"wb\") as file:\n",
    "    file.write(response.content)"
   ]
  },
  {
   "cell_type": "code",
   "execution_count": null,
   "id": "bc838057-e7b2-4a2b-9cbf-d7a10f71a9d7",
   "metadata": {},
   "outputs": [],
   "source": []
  },
  {
   "cell_type": "code",
   "execution_count": null,
   "id": "591e7b4f-fe76-4abe-8a7e-e7b96c250c47",
   "metadata": {},
   "outputs": [],
   "source": []
  },
  {
   "cell_type": "code",
   "execution_count": null,
   "id": "700df484-0784-49c1-9dbe-1f9facd97109",
   "metadata": {},
   "outputs": [],
   "source": [
    "import zipfile"
   ]
  },
  {
   "cell_type": "code",
   "execution_count": null,
   "id": "c838a7ca-f4c4-47ea-b8ac-af43eab0f350",
   "metadata": {},
   "outputs": [],
   "source": [
    "import gdown"
   ]
  },
  {
   "cell_type": "code",
   "execution_count": null,
   "id": "e04c3965-1116-408e-aef6-771cd6c6c541",
   "metadata": {},
   "outputs": [],
   "source": [
    "path = r'C:\\Users\\o.bogomolov\\Desktop\\Jupyter_notebook\\34_03_download_files_from_google_to_yandex'"
   ]
  },
  {
   "cell_type": "code",
   "execution_count": null,
   "id": "e84a505c-5862-4557-a0e0-46ba2ce9490e",
   "metadata": {},
   "outputs": [],
   "source": [
    "id = '1A6RHtXKIMneWUkD-Fs2oLrfbVwDk07Er'"
   ]
  },
  {
   "cell_type": "code",
   "execution_count": null,
   "id": "f08bb538-814e-420f-83bc-0ecc825227f3",
   "metadata": {},
   "outputs": [],
   "source": [
    "folder_path = 'https://drive.google.com/drive/folders/1A6RHtXKIMneWUkD-Fs2oLrfbVwDk07Er?usp=sharing'"
   ]
  },
  {
   "cell_type": "code",
   "execution_count": null,
   "id": "05739840-2b16-4b55-8f29-d4bcb5611253",
   "metadata": {},
   "outputs": [],
   "source": [
    "url_path = f'https://drive.google.com/drive/folders/{id}?usp=sharing'"
   ]
  },
  {
   "cell_type": "code",
   "execution_count": null,
   "id": "6feddbf3-7f19-442a-ab45-e10f2f8f52b1",
   "metadata": {},
   "outputs": [],
   "source": [
    "url_path"
   ]
  },
  {
   "cell_type": "code",
   "execution_count": null,
   "id": "69bdd699-432f-48f4-94dd-8a9f874c2114",
   "metadata": {},
   "outputs": [],
   "source": [
    "gdown.download_folder(url_path, output=path, quiet=True, use_cookies=False)"
   ]
  },
  {
   "cell_type": "code",
   "execution_count": null,
   "id": "24ac7237-592b-4ece-9a57-7af9099eb009",
   "metadata": {},
   "outputs": [],
   "source": []
  },
  {
   "cell_type": "code",
   "execution_count": null,
   "id": "2ac35c25-68a2-46f5-a80e-f054cd8b1fa6",
   "metadata": {},
   "outputs": [],
   "source": []
  },
  {
   "cell_type": "code",
   "execution_count": null,
   "id": "3cc2ace4-c0ce-405b-b98c-d1a22ede3f6f",
   "metadata": {},
   "outputs": [],
   "source": [
    "for i in gdown.download_folder(folder_path, quiet=True, use_cookies=False):\n",
    "    print(i)"
   ]
  },
  {
   "cell_type": "code",
   "execution_count": null,
   "id": "c72b36a7-257e-4dc5-b065-d7d08de85b3c",
   "metadata": {},
   "outputs": [],
   "source": [
    "zf = zipfile.ZipFile(\"myzipfile.zip\", \"a\")"
   ]
  },
  {
   "cell_type": "code",
   "execution_count": null,
   "id": "03bf3181-386b-423e-bdc3-4ddb852101c7",
   "metadata": {},
   "outputs": [],
   "source": [
    "zf.write(gdown.download_folder(folder_path, quiet=True, use_cookies=False))"
   ]
  },
  {
   "cell_type": "code",
   "execution_count": null,
   "id": "35407b2e-c538-41fe-b6e7-ece0ab953873",
   "metadata": {},
   "outputs": [],
   "source": []
  },
  {
   "cell_type": "code",
   "execution_count": null,
   "id": "3553855a-f339-4b9b-af51-a47cf69e9ba9",
   "metadata": {},
   "outputs": [],
   "source": [
    "https://googledrive.com/host/1A6RHtXKIMneWUkD-Fs2oLrfbVwDk07Er/"
   ]
  },
  {
   "cell_type": "code",
   "execution_count": null,
   "id": "ddd499d5-7c57-437d-ac43-678e77d3df46",
   "metadata": {},
   "outputs": [],
   "source": []
  },
  {
   "cell_type": "code",
   "execution_count": null,
   "id": "1f5ffa3b-c044-4110-9640-680b5ffeff0a",
   "metadata": {},
   "outputs": [],
   "source": [
    "id = '1A6RHtXKIMneWUkD-Fs2oLrfbVwDk07Er'"
   ]
  },
  {
   "cell_type": "code",
   "execution_count": null,
   "id": "09ce7493-6b3d-4e25-ae24-ab6f1963390b",
   "metadata": {},
   "outputs": [],
   "source": [
    "url = f'https://drive.google.com/uc?id={id}E&export=download'"
   ]
  },
  {
   "cell_type": "code",
   "execution_count": null,
   "id": "59e3e1fb-a275-48a9-80c4-03eae7289f39",
   "metadata": {},
   "outputs": [],
   "source": [
    "response = requests.get(url)"
   ]
  },
  {
   "cell_type": "code",
   "execution_count": null,
   "id": "3c7597d8-c5c6-43b0-8d53-2eea79eef57e",
   "metadata": {},
   "outputs": [],
   "source": [
    "content = response.content"
   ]
  },
  {
   "cell_type": "code",
   "execution_count": null,
   "id": "65f3ab95-8ad1-4350-90e1-c4e26631d0b5",
   "metadata": {},
   "outputs": [],
   "source": [
    "yandex_token"
   ]
  },
  {
   "cell_type": "code",
   "execution_count": null,
   "id": "d914074f-ab10-4357-9668-8e3dd3243829",
   "metadata": {},
   "outputs": [],
   "source": [
    "main_folder"
   ]
  },
  {
   "cell_type": "code",
   "execution_count": null,
   "id": "cef2f094-8433-49a9-9f34-25c515dfee89",
   "metadata": {},
   "outputs": [],
   "source": [
    "file_path = '/test'\n",
    "file_name = 'test.zip'"
   ]
  },
  {
   "cell_type": "code",
   "execution_count": null,
   "id": "8d96ea58-15ba-423b-bddb-2cbd09e18d0f",
   "metadata": {},
   "outputs": [],
   "source": [
    "file_path = file_path + '/' + file_name"
   ]
  },
  {
   "cell_type": "code",
   "execution_count": null,
   "id": "3032532b-77a5-4d56-b916-7d51eaf1eb6b",
   "metadata": {},
   "outputs": [],
   "source": [
    "file_path "
   ]
  },
  {
   "cell_type": "code",
   "execution_count": null,
   "id": "408451ea-5b09-45e2-b1ae-3c0537725c54",
   "metadata": {},
   "outputs": [],
   "source": [
    "url_path = urlencode(dict(path=main_folder+file_path)) # кодируем полный путь сохранения файла вместе с его названием\n",
    "# добавляем флаг permanently=True для полного удаления файлов\n",
    "final_url = upload_url + url_path + '&overwrite=True'\n",
    "# формируем заголовки для дальнейших запросов\n",
    "headers = {\n",
    "    'Content-Type': 'application/json', \n",
    "    'Accept': 'application/json', \n",
    "    'Authorization': f'OAuth {yandex_token}'\n",
    "}\n",
    "#вызываем метод get для получения ссылки для загрузки файла\n",
    "# это одноразовая ссылка, если загрузка не удалась, ссылку нужно получать заново\n",
    "res = requests.get(final_url, headers=headers) \n",
    "# парсим ответ сервера\n",
    "data = json.loads(res.content)\n",
    "# забираем ссылку для загрузки файла\n",
    "download_link = data['href']"
   ]
  },
  {
   "cell_type": "code",
   "execution_count": null,
   "id": "039272ad-f8f4-44f6-89b3-459fa0a69d08",
   "metadata": {},
   "outputs": [],
   "source": [
    "download_link"
   ]
  },
  {
   "cell_type": "code",
   "execution_count": null,
   "id": "7cc0ff59-02e1-4b1d-903e-21e925405e30",
   "metadata": {},
   "outputs": [],
   "source": [
    "requests.put(download_link, files={'file': content})"
   ]
  },
  {
   "cell_type": "code",
   "execution_count": null,
   "id": "c792bebb-3984-48f3-a3d2-c6541e25ff9a",
   "metadata": {},
   "outputs": [],
   "source": [
    "# функция для загрузки Excel файлов на Яндекс Диск\n",
    "# на входе принимает путь к основной папке\n",
    "# путь к папке сохранения\n",
    "# название файла (без расширения)\n",
    "# файл, который нужно сохранить\n",
    "# токен Яндекс\n",
    "def upload_file_to_yandex_disk(main_folder, file_path, file_name, content, yandex_token):\n",
    "    if '/' not in file_path:\n",
    "        file_path = '/' + file_path\n",
    "    # добавляем расширение файла к его названию\n",
    "    file_name = file_name + '.xlsx'\n",
    "    # формируем итоговый путь сохраненияфайла\n",
    "    file_path = file_path + '/' + file_name\n",
    "    url_path = urlencode(dict(path=main_folder+file_path)) # кодируем полный путь сохранения файла вместе с его названием\n",
    "    \n",
    "    # добавляем флаг permanently=True для полного удаления файлов\n",
    "    final_url = upload_url + url_path + '&overwrite=True'\n",
    "    # формируем заголовки для дальнейших запросов\n",
    "    headers = {\n",
    "        'Content-Type': 'application/json', \n",
    "        'Accept': 'application/json', \n",
    "        'Authorization': f'OAuth {yandex_token}'\n",
    "    }\n",
    "   \n",
    "    #вызываем метод get для получения ссылки для загрузки файла\n",
    "    # это одноразовая ссылка, если загрузка не удалась, ссылку нужно получать заново\n",
    "    res = requests.get(final_url, headers=headers) \n",
    "    # парсим ответ сервера\n",
    "    data = json.loads(res.content)\n",
    "    # забираем ссылку для загрузки файла\n",
    "    download_link = data['href']\n",
    "    # отправляем файл на яндекс диск\n",
    "    status = requests.put(download_link, files={'file': content})\n",
    "    if status.status_code == 201:\n",
    "        print('Файл успешно загружен')\n",
    "    else:\n",
    "        print('Возможны ошибки - Проверьте Яндекс Диск')    "
   ]
  }
 ],
 "metadata": {
  "kernelspec": {
   "display_name": "Python 3 (ipykernel)",
   "language": "python",
   "name": "python3"
  },
  "language_info": {
   "codemirror_mode": {
    "name": "ipython",
    "version": 3
   },
   "file_extension": ".py",
   "mimetype": "text/x-python",
   "name": "python",
   "nbconvert_exporter": "python",
   "pygments_lexer": "ipython3",
   "version": "3.11.7"
  }
 },
 "nbformat": 4,
 "nbformat_minor": 5
}
